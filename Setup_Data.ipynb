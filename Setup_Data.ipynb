{
 "cells": [
  {
   "cell_type": "code",
   "execution_count": 1,
   "id": "3b47a1ed",
   "metadata": {},
   "outputs": [],
   "source": [
    "import os\n",
    "import pickle\n",
    "import numpy as np\n",
    "import pandas as pd\n",
    "import seaborn as sns\n",
    "from pathlib import Path\n",
    "from urllib.error import HTTPError"
   ]
  },
  {
   "cell_type": "code",
   "execution_count": 2,
   "id": "830d70d8",
   "metadata": {},
   "outputs": [],
   "source": [
    "# Book Code - https://github.com/ageron/handson-ml3/blob/main/01_the_machine_learning_landscape.ipynb\n",
    "IMAGES_PATH = Path() / 'images'\n",
    "IMAGES_PATH.mkdir(parents=True, exist_ok=True)\n",
    "\n",
    "def save_fig(fig_id, tight_layout=True, fig_extension='png', resolution=300):\n",
    "    path = IMAGES_PATH / f'{fig_id}.{fig_extension}'\n",
    "    if tight_layout:\n",
    "        plt.tight_layout()\n",
    "    plt.savefig(path, format=fig_extension, dpi=resolution)"
   ]
  },
  {
   "cell_type": "code",
   "execution_count": 3,
   "id": "37e1cd06",
   "metadata": {},
   "outputs": [],
   "source": [
    "np.random.seed(42)  # set random seed"
   ]
  },
  {
   "cell_type": "code",
   "execution_count": 4,
   "id": "4b8f9777",
   "metadata": {},
   "outputs": [],
   "source": [
    "# TODO: verify with partner\n",
    "\n",
    "def init_path(to=''):\n",
    "    \"\"\"Initalizes the path to repository\"\"\"\n",
    "    user = !whoami\n",
    "    if user == ['jason']:\n",
    "        path = Path(r'/home/jason/Desktop/483_ML_BatteryLife/') / Path(to.replace(\"\\\\\", '/'))\n",
    "    else:\n",
    "        path = Path(r'C:\\Users\\heimb\\Documents\\GitHub\\483_ML_BatteryLife/') / Path(to.replace(\"/\", '\\\\'))\n",
    "    return path"
   ]
  },
  {
   "cell_type": "markdown",
   "id": "39280e32",
   "metadata": {},
   "source": [
    "# Data Consolidation"
   ]
  },
  {
   "cell_type": "markdown",
   "id": "7c7ee78f",
   "metadata": {},
   "source": [
    "## Filter/Parse the Data "
   ]
  },
  {
   "cell_type": "code",
   "execution_count": 5,
   "id": "452dcf5b",
   "metadata": {},
   "outputs": [],
   "source": [
    "def extract_column(dataset, attr, *, pattern=''):\n",
    "    \"\"\"\n",
    "    Returns a list samples of an attribute and\n",
    "    constrained by some regular expression.\n",
    "    \n",
    "    Parameters\n",
    "    ----------\n",
    "    dataset -- a csv file\n",
    "    attr -- an attribute of the dataset \n",
    "    regex: the key used to filter specific datapoints (defaults to all)\n",
    "    \"\"\"\n",
    "    df = pd.read_csv(dataset)[attr].squeeze()\n",
    "    df.replace('/', '-', regex=True, inplace=True)\n",
    "    return [dp[0] for dp in df.str.findall(fr'^{pattern}.*') if len(dp)]"
   ]
  },
  {
   "cell_type": "markdown",
   "id": "9755f679",
   "metadata": {},
   "source": [
    "## Download (Collect/Join), Save, and Load the Data"
   ]
  },
  {
   "cell_type": "code",
   "execution_count": 6,
   "id": "295be678",
   "metadata": {},
   "outputs": [],
   "source": [
    "repos = (r'https://www.batteryarchive.org/data/' + _ + r'_timeseries.csv'\n",
    "         for _ in extract_column('Input/metadata.csv', 'cell_id', pattern='SNL'))\n",
    "\n",
    "def load_battery_data(path):\n",
    "    \"\"\"\n",
    "    Downloads the battery data, encoded as a pickle object (*.pkl)\n",
    "    into the datasets directory.\n",
    "    \n",
    "    Data source -- @www.batteryarchive.org\n",
    "    \"\"\"\n",
    "    \n",
    "    try:\n",
    "        os.chdir(path)\n",
    "        data_path = r'Input/battery.pkl'\n",
    "        if not Path('Input/').is_dir():\n",
    "            Path('Input').mkdir(parents=True, exist_ok=True)\n",
    "        if not Path(data_path).is_file():\n",
    "            df = pd.concat([pd.read_csv(url) for url in repos])\n",
    "            df.to_pickle(data_path)\n",
    "            print('Download Complete!')\n",
    "        return pd.read_pickle(data_path)\n",
    "    except HTTPError:\n",
    "        print('Download Failed!')"
   ]
  },
  {
   "cell_type": "code",
   "execution_count": 7,
   "id": "4deee225",
   "metadata": {},
   "outputs": [],
   "source": [
    "path = init_path()\n",
    "battery = load_battery_data(path)"
   ]
  },
  {
   "cell_type": "markdown",
   "id": "6ae051a9",
   "metadata": {},
   "source": [
    "# Look at the Data"
   ]
  },
  {
   "cell_type": "code",
   "execution_count": 8,
   "id": "7c522c1f",
   "metadata": {},
   "outputs": [],
   "source": [
    "if 'Date_Time' in battery.columns:\n",
    "    battery = battery.drop(['Date_Time'], axis=1)"
   ]
  },
  {
   "cell_type": "code",
   "execution_count": 9,
   "id": "458f33f9",
   "metadata": {},
   "outputs": [],
   "source": [
    "battery.replace(' ', np.NaN, inplace=True)\n",
    "battery['Environment_Temperature (C)'].replace(\n",
    "    np.NaN, battery['Environment_Temperature (C)'].mean(), inplace=True)\n",
    "battery['Cell_Temperature (C)'].replace(\n",
    "    np.NaN, battery['Cell_Temperature (C)'].mean(), inplace=True)"
   ]
  },
  {
   "cell_type": "code",
   "execution_count": 10,
   "id": "63e865b9",
   "metadata": {},
   "outputs": [
    {
     "name": "stdout",
     "output_type": "stream",
     "text": [
      "<class 'pandas.core.frame.DataFrame'>\n",
      "Int64Index: 23888882 entries, 0 to 80104\n",
      "Data columns (total 10 columns):\n",
      " #   Column                       Non-Null Count     Dtype  \n",
      "---  ------                       --------------     -----  \n",
      " 0   Test_Time (s)                23888882 non-null  float64\n",
      " 1   Cycle_Index                  23888882 non-null  float64\n",
      " 2   Current (A)                  23888882 non-null  float64\n",
      " 3   Voltage (V)                  23888882 non-null  float64\n",
      " 4   Charge_Capacity (Ah)         23888882 non-null  float64\n",
      " 5   Discharge_Capacity (Ah)      23888882 non-null  float64\n",
      " 6   Charge_Energy (Wh)           23888882 non-null  float64\n",
      " 7   Discharge_Energy (Wh)        23888882 non-null  float64\n",
      " 8   Environment_Temperature (C)  23888882 non-null  float64\n",
      " 9   Cell_Temperature (C)         23888882 non-null  float64\n",
      "dtypes: float64(10)\n",
      "memory usage: 2.0 GB\n"
     ]
    }
   ],
   "source": [
    "battery.info(show_counts=True)"
   ]
  },
  {
   "cell_type": "code",
   "execution_count": 11,
   "id": "5d7af751",
   "metadata": {},
   "outputs": [
    {
     "data": {
      "text/html": [
       "<div>\n",
       "<style scoped>\n",
       "    .dataframe tbody tr th:only-of-type {\n",
       "        vertical-align: middle;\n",
       "    }\n",
       "\n",
       "    .dataframe tbody tr th {\n",
       "        vertical-align: top;\n",
       "    }\n",
       "\n",
       "    .dataframe thead th {\n",
       "        text-align: right;\n",
       "    }\n",
       "</style>\n",
       "<table border=\"1\" class=\"dataframe\">\n",
       "  <thead>\n",
       "    <tr style=\"text-align: right;\">\n",
       "      <th></th>\n",
       "      <th>Test_Time (s)</th>\n",
       "      <th>Cycle_Index</th>\n",
       "      <th>Current (A)</th>\n",
       "      <th>Voltage (V)</th>\n",
       "      <th>Charge_Capacity (Ah)</th>\n",
       "      <th>Discharge_Capacity (Ah)</th>\n",
       "      <th>Charge_Energy (Wh)</th>\n",
       "      <th>Discharge_Energy (Wh)</th>\n",
       "      <th>Environment_Temperature (C)</th>\n",
       "      <th>Cell_Temperature (C)</th>\n",
       "    </tr>\n",
       "  </thead>\n",
       "  <tbody>\n",
       "    <tr>\n",
       "      <th>0</th>\n",
       "      <td>10.002</td>\n",
       "      <td>1.0</td>\n",
       "      <td>0.0</td>\n",
       "      <td>2.940</td>\n",
       "      <td>0.0</td>\n",
       "      <td>0.0</td>\n",
       "      <td>0.0</td>\n",
       "      <td>0.0</td>\n",
       "      <td>15.163</td>\n",
       "      <td>15.375</td>\n",
       "    </tr>\n",
       "    <tr>\n",
       "      <th>1</th>\n",
       "      <td>20.016</td>\n",
       "      <td>1.0</td>\n",
       "      <td>0.0</td>\n",
       "      <td>2.941</td>\n",
       "      <td>0.0</td>\n",
       "      <td>0.0</td>\n",
       "      <td>0.0</td>\n",
       "      <td>0.0</td>\n",
       "      <td>15.148</td>\n",
       "      <td>15.437</td>\n",
       "    </tr>\n",
       "    <tr>\n",
       "      <th>2</th>\n",
       "      <td>30.031</td>\n",
       "      <td>1.0</td>\n",
       "      <td>0.0</td>\n",
       "      <td>2.941</td>\n",
       "      <td>0.0</td>\n",
       "      <td>0.0</td>\n",
       "      <td>0.0</td>\n",
       "      <td>0.0</td>\n",
       "      <td>15.087</td>\n",
       "      <td>15.375</td>\n",
       "    </tr>\n",
       "    <tr>\n",
       "      <th>3</th>\n",
       "      <td>40.046</td>\n",
       "      <td>1.0</td>\n",
       "      <td>0.0</td>\n",
       "      <td>2.941</td>\n",
       "      <td>0.0</td>\n",
       "      <td>0.0</td>\n",
       "      <td>0.0</td>\n",
       "      <td>0.0</td>\n",
       "      <td>15.240</td>\n",
       "      <td>15.375</td>\n",
       "    </tr>\n",
       "    <tr>\n",
       "      <th>4</th>\n",
       "      <td>50.061</td>\n",
       "      <td>1.0</td>\n",
       "      <td>0.0</td>\n",
       "      <td>2.941</td>\n",
       "      <td>0.0</td>\n",
       "      <td>0.0</td>\n",
       "      <td>0.0</td>\n",
       "      <td>0.0</td>\n",
       "      <td>15.087</td>\n",
       "      <td>15.375</td>\n",
       "    </tr>\n",
       "  </tbody>\n",
       "</table>\n",
       "</div>"
      ],
      "text/plain": [
       "   Test_Time (s)  Cycle_Index  Current (A)  Voltage (V)  Charge_Capacity (Ah)  \\\n",
       "0         10.002          1.0          0.0        2.940                   0.0   \n",
       "1         20.016          1.0          0.0        2.941                   0.0   \n",
       "2         30.031          1.0          0.0        2.941                   0.0   \n",
       "3         40.046          1.0          0.0        2.941                   0.0   \n",
       "4         50.061          1.0          0.0        2.941                   0.0   \n",
       "\n",
       "   Discharge_Capacity (Ah)  Charge_Energy (Wh)  Discharge_Energy (Wh)  \\\n",
       "0                      0.0                 0.0                    0.0   \n",
       "1                      0.0                 0.0                    0.0   \n",
       "2                      0.0                 0.0                    0.0   \n",
       "3                      0.0                 0.0                    0.0   \n",
       "4                      0.0                 0.0                    0.0   \n",
       "\n",
       "   Environment_Temperature (C)  Cell_Temperature (C)  \n",
       "0                       15.163                15.375  \n",
       "1                       15.148                15.437  \n",
       "2                       15.087                15.375  \n",
       "3                       15.240                15.375  \n",
       "4                       15.087                15.375  "
      ]
     },
     "execution_count": 11,
     "metadata": {},
     "output_type": "execute_result"
    }
   ],
   "source": [
    "battery.head()"
   ]
  },
  {
   "cell_type": "code",
   "execution_count": 12,
   "id": "3e082171",
   "metadata": {},
   "outputs": [
    {
     "data": {
      "text/html": [
       "<div>\n",
       "<style scoped>\n",
       "    .dataframe tbody tr th:only-of-type {\n",
       "        vertical-align: middle;\n",
       "    }\n",
       "\n",
       "    .dataframe tbody tr th {\n",
       "        vertical-align: top;\n",
       "    }\n",
       "\n",
       "    .dataframe thead th {\n",
       "        text-align: right;\n",
       "    }\n",
       "</style>\n",
       "<table border=\"1\" class=\"dataframe\">\n",
       "  <thead>\n",
       "    <tr style=\"text-align: right;\">\n",
       "      <th></th>\n",
       "      <th>Test_Time (s)</th>\n",
       "      <th>Cycle_Index</th>\n",
       "      <th>Current (A)</th>\n",
       "      <th>Voltage (V)</th>\n",
       "      <th>Charge_Capacity (Ah)</th>\n",
       "      <th>Discharge_Capacity (Ah)</th>\n",
       "      <th>Charge_Energy (Wh)</th>\n",
       "      <th>Discharge_Energy (Wh)</th>\n",
       "      <th>Environment_Temperature (C)</th>\n",
       "      <th>Cell_Temperature (C)</th>\n",
       "    </tr>\n",
       "  </thead>\n",
       "  <tbody>\n",
       "    <tr>\n",
       "      <th>count</th>\n",
       "      <td>2.388888e+07</td>\n",
       "      <td>2.388888e+07</td>\n",
       "      <td>2.388888e+07</td>\n",
       "      <td>2.388888e+07</td>\n",
       "      <td>2.388888e+07</td>\n",
       "      <td>2.388888e+07</td>\n",
       "      <td>2.388888e+07</td>\n",
       "      <td>2.388888e+07</td>\n",
       "      <td>2.388888e+07</td>\n",
       "      <td>2.388888e+07</td>\n",
       "    </tr>\n",
       "    <tr>\n",
       "      <th>mean</th>\n",
       "      <td>1.613473e+07</td>\n",
       "      <td>2.841530e+03</td>\n",
       "      <td>-1.981644e-01</td>\n",
       "      <td>3.446082e+00</td>\n",
       "      <td>9.805721e-01</td>\n",
       "      <td>3.515892e-01</td>\n",
       "      <td>3.558338e+00</td>\n",
       "      <td>1.218359e+00</td>\n",
       "      <td>2.491242e+01</td>\n",
       "      <td>2.591522e+01</td>\n",
       "    </tr>\n",
       "    <tr>\n",
       "      <th>std</th>\n",
       "      <td>1.366815e+07</td>\n",
       "      <td>3.178384e+03</td>\n",
       "      <td>1.398625e+00</td>\n",
       "      <td>3.230248e-01</td>\n",
       "      <td>1.092508e+00</td>\n",
       "      <td>7.203539e-01</td>\n",
       "      <td>3.933567e+00</td>\n",
       "      <td>2.461379e+00</td>\n",
       "      <td>4.885589e+00</td>\n",
       "      <td>4.789597e+00</td>\n",
       "    </tr>\n",
       "    <tr>\n",
       "      <th>min</th>\n",
       "      <td>2.100000e-02</td>\n",
       "      <td>1.000000e+00</td>\n",
       "      <td>-9.998000e+00</td>\n",
       "      <td>-4.646000e+00</td>\n",
       "      <td>0.000000e+00</td>\n",
       "      <td>0.000000e+00</td>\n",
       "      <td>0.000000e+00</td>\n",
       "      <td>0.000000e+00</td>\n",
       "      <td>1.234700e+01</td>\n",
       "      <td>5.605000e+00</td>\n",
       "    </tr>\n",
       "    <tr>\n",
       "      <th>25%</th>\n",
       "      <td>4.554111e+06</td>\n",
       "      <td>5.210000e+02</td>\n",
       "      <td>-1.499000e+00</td>\n",
       "      <td>3.280000e+00</td>\n",
       "      <td>4.500000e-01</td>\n",
       "      <td>0.000000e+00</td>\n",
       "      <td>1.525000e+00</td>\n",
       "      <td>0.000000e+00</td>\n",
       "      <td>2.444300e+01</td>\n",
       "      <td>2.449400e+01</td>\n",
       "    </tr>\n",
       "    <tr>\n",
       "      <th>50%</th>\n",
       "      <td>1.292059e+07</td>\n",
       "      <td>1.853000e+03</td>\n",
       "      <td>1.000000e-03</td>\n",
       "      <td>3.386000e+00</td>\n",
       "      <td>6.410000e-01</td>\n",
       "      <td>0.000000e+00</td>\n",
       "      <td>2.260000e+00</td>\n",
       "      <td>0.000000e+00</td>\n",
       "      <td>2.477200e+01</td>\n",
       "      <td>2.506100e+01</td>\n",
       "    </tr>\n",
       "    <tr>\n",
       "      <th>75%</th>\n",
       "      <td>2.519087e+07</td>\n",
       "      <td>3.684000e+03</td>\n",
       "      <td>5.490000e-01</td>\n",
       "      <td>3.614000e+00</td>\n",
       "      <td>1.036000e+00</td>\n",
       "      <td>4.400000e-01</td>\n",
       "      <td>3.503000e+00</td>\n",
       "      <td>1.513000e+00</td>\n",
       "      <td>2.505600e+01</td>\n",
       "      <td>2.630100e+01</td>\n",
       "    </tr>\n",
       "    <tr>\n",
       "      <th>max</th>\n",
       "      <td>6.618272e+07</td>\n",
       "      <td>1.917500e+04</td>\n",
       "      <td>9.999000e+00</td>\n",
       "      <td>9.983000e+00</td>\n",
       "      <td>1.927600e+01</td>\n",
       "      <td>9.735000e+00</td>\n",
       "      <td>6.382100e+01</td>\n",
       "      <td>3.149800e+01</td>\n",
       "      <td>3.729300e+01</td>\n",
       "      <td>5.536100e+01</td>\n",
       "    </tr>\n",
       "  </tbody>\n",
       "</table>\n",
       "</div>"
      ],
      "text/plain": [
       "       Test_Time (s)   Cycle_Index   Current (A)   Voltage (V)  \\\n",
       "count   2.388888e+07  2.388888e+07  2.388888e+07  2.388888e+07   \n",
       "mean    1.613473e+07  2.841530e+03 -1.981644e-01  3.446082e+00   \n",
       "std     1.366815e+07  3.178384e+03  1.398625e+00  3.230248e-01   \n",
       "min     2.100000e-02  1.000000e+00 -9.998000e+00 -4.646000e+00   \n",
       "25%     4.554111e+06  5.210000e+02 -1.499000e+00  3.280000e+00   \n",
       "50%     1.292059e+07  1.853000e+03  1.000000e-03  3.386000e+00   \n",
       "75%     2.519087e+07  3.684000e+03  5.490000e-01  3.614000e+00   \n",
       "max     6.618272e+07  1.917500e+04  9.999000e+00  9.983000e+00   \n",
       "\n",
       "       Charge_Capacity (Ah)  Discharge_Capacity (Ah)  Charge_Energy (Wh)  \\\n",
       "count          2.388888e+07             2.388888e+07        2.388888e+07   \n",
       "mean           9.805721e-01             3.515892e-01        3.558338e+00   \n",
       "std            1.092508e+00             7.203539e-01        3.933567e+00   \n",
       "min            0.000000e+00             0.000000e+00        0.000000e+00   \n",
       "25%            4.500000e-01             0.000000e+00        1.525000e+00   \n",
       "50%            6.410000e-01             0.000000e+00        2.260000e+00   \n",
       "75%            1.036000e+00             4.400000e-01        3.503000e+00   \n",
       "max            1.927600e+01             9.735000e+00        6.382100e+01   \n",
       "\n",
       "       Discharge_Energy (Wh)  Environment_Temperature (C)  \\\n",
       "count           2.388888e+07                 2.388888e+07   \n",
       "mean            1.218359e+00                 2.491242e+01   \n",
       "std             2.461379e+00                 4.885589e+00   \n",
       "min             0.000000e+00                 1.234700e+01   \n",
       "25%             0.000000e+00                 2.444300e+01   \n",
       "50%             0.000000e+00                 2.477200e+01   \n",
       "75%             1.513000e+00                 2.505600e+01   \n",
       "max             3.149800e+01                 3.729300e+01   \n",
       "\n",
       "       Cell_Temperature (C)  \n",
       "count          2.388888e+07  \n",
       "mean           2.591522e+01  \n",
       "std            4.789597e+00  \n",
       "min            5.605000e+00  \n",
       "25%            2.449400e+01  \n",
       "50%            2.506100e+01  \n",
       "75%            2.630100e+01  \n",
       "max            5.536100e+01  "
      ]
     },
     "execution_count": 12,
     "metadata": {},
     "output_type": "execute_result"
    }
   ],
   "source": [
    "battery.describe()"
   ]
  },
  {
   "cell_type": "code",
   "execution_count": 13,
   "id": "54c62150",
   "metadata": {},
   "outputs": [
    {
     "data": {
      "image/png": "[encoded data removed]",
      "text/plain": [
       "<Figure size 1000x1000 with 12 Axes>"
      ]
     },
     "metadata": {},
     "output_type": "display_data"
    }
   ],
   "source": [
    "%matplotlib inline\n",
    "import matplotlib.pyplot as plt\n",
    "\n",
    "plt.rc('font', size=14)\n",
    "plt.rc('axes', labelsize=14, titlesize=10)\n",
    "plt.rc('legend', fontsize=14)\n",
    "plt.rc('xtick', labelsize=8)\n",
    "plt.rc('ytick', labelsize=8)\n",
    "\n",
    "battery.hist(bins=50, figsize=(10, 10))\n",
    "plt.show()"
   ]
  },
  {
   "cell_type": "code",
   "execution_count": 14,
   "id": "fc8a0e7a",
   "metadata": {},
   "outputs": [],
   "source": [
    "def insights_of_df(df):\n",
    "    \"\"\"\n",
    "    Display of the insights of a data frame such as column names, number\n",
    "    of null/non-null values, percentage null values, number of unique\n",
    "    values and data types.\n",
    "\n",
    "    Parameters\n",
    "    ----------\n",
    "        df: pandas.DataFrame.dtypes\n",
    "            The full dataset\n",
    "\n",
    "    Returns\n",
    "    -------\n",
    "        output: pandas.DataFrame.dtypes\n",
    "            Dataframe with specified columns\n",
    "    \"\"\"\n",
    "    output = []\n",
    "\n",
    "    # loop through all columns in the DataFrame\n",
    "    for col in df.columns:\n",
    "        nonNull  = len(df) - np.sum(pd.isna(df[col]))\n",
    "        nullValues = np.sum(pd.isna(df[col]))\n",
    "        percentNA = nullValues / (nullValues + nonNull)\n",
    "        unique = df[col].nunique()\n",
    "        colType = str(df[col].dtype)\n",
    "\n",
    "        # Append variable to the output list\n",
    "        output.append([col, nonNull, nullValues, percentNA, unique, colType])\n",
    "\n",
    "    output = pd.DataFrame(output)\n",
    "    output.columns = ['colName', 'non-null values', 'null values', \n",
    "                      'percentNA', 'unique', 'dtype']\n",
    "    return output"
   ]
  },
  {
   "cell_type": "code",
   "execution_count": 15,
   "id": "352bc85d",
   "metadata": {},
   "outputs": [
    {
     "data": {
      "text/html": [
       "<div>\n",
       "<style scoped>\n",
       "    .dataframe tbody tr th:only-of-type {\n",
       "        vertical-align: middle;\n",
       "    }\n",
       "\n",
       "    .dataframe tbody tr th {\n",
       "        vertical-align: top;\n",
       "    }\n",
       "\n",
       "    .dataframe thead th {\n",
       "        text-align: right;\n",
       "    }\n",
       "</style>\n",
       "<table border=\"1\" class=\"dataframe\">\n",
       "  <thead>\n",
       "    <tr style=\"text-align: right;\">\n",
       "      <th></th>\n",
       "      <th>colName</th>\n",
       "      <th>non-null values</th>\n",
       "      <th>null values</th>\n",
       "      <th>percentNA</th>\n",
       "      <th>unique</th>\n",
       "      <th>dtype</th>\n",
       "    </tr>\n",
       "  </thead>\n",
       "  <tbody>\n",
       "    <tr>\n",
       "      <th>0</th>\n",
       "      <td>Test_Time (s)</td>\n",
       "      <td>23888882</td>\n",
       "      <td>0</td>\n",
       "      <td>0.0</td>\n",
       "      <td>23874887</td>\n",
       "      <td>float64</td>\n",
       "    </tr>\n",
       "    <tr>\n",
       "      <th>1</th>\n",
       "      <td>Cycle_Index</td>\n",
       "      <td>23888882</td>\n",
       "      <td>0</td>\n",
       "      <td>0.0</td>\n",
       "      <td>19175</td>\n",
       "      <td>float64</td>\n",
       "    </tr>\n",
       "    <tr>\n",
       "      <th>2</th>\n",
       "      <td>Current (A)</td>\n",
       "      <td>23888882</td>\n",
       "      <td>0</td>\n",
       "      <td>0.0</td>\n",
       "      <td>2039</td>\n",
       "      <td>float64</td>\n",
       "    </tr>\n",
       "    <tr>\n",
       "      <th>3</th>\n",
       "      <td>Voltage (V)</td>\n",
       "      <td>23888882</td>\n",
       "      <td>0</td>\n",
       "      <td>0.0</td>\n",
       "      <td>2333</td>\n",
       "      <td>float64</td>\n",
       "    </tr>\n",
       "    <tr>\n",
       "      <th>4</th>\n",
       "      <td>Charge_Capacity (Ah)</td>\n",
       "      <td>23888882</td>\n",
       "      <td>0</td>\n",
       "      <td>0.0</td>\n",
       "      <td>19275</td>\n",
       "      <td>float64</td>\n",
       "    </tr>\n",
       "    <tr>\n",
       "      <th>5</th>\n",
       "      <td>Discharge_Capacity (Ah)</td>\n",
       "      <td>23888882</td>\n",
       "      <td>0</td>\n",
       "      <td>0.0</td>\n",
       "      <td>9734</td>\n",
       "      <td>float64</td>\n",
       "    </tr>\n",
       "    <tr>\n",
       "      <th>6</th>\n",
       "      <td>Charge_Energy (Wh)</td>\n",
       "      <td>23888882</td>\n",
       "      <td>0</td>\n",
       "      <td>0.0</td>\n",
       "      <td>63812</td>\n",
       "      <td>float64</td>\n",
       "    </tr>\n",
       "    <tr>\n",
       "      <th>7</th>\n",
       "      <td>Discharge_Energy (Wh)</td>\n",
       "      <td>23888882</td>\n",
       "      <td>0</td>\n",
       "      <td>0.0</td>\n",
       "      <td>31488</td>\n",
       "      <td>float64</td>\n",
       "    </tr>\n",
       "    <tr>\n",
       "      <th>8</th>\n",
       "      <td>Environment_Temperature (C)</td>\n",
       "      <td>23888882</td>\n",
       "      <td>0</td>\n",
       "      <td>0.0</td>\n",
       "      <td>10689</td>\n",
       "      <td>float64</td>\n",
       "    </tr>\n",
       "    <tr>\n",
       "      <th>9</th>\n",
       "      <td>Cell_Temperature (C)</td>\n",
       "      <td>23888882</td>\n",
       "      <td>0</td>\n",
       "      <td>0.0</td>\n",
       "      <td>39205</td>\n",
       "      <td>float64</td>\n",
       "    </tr>\n",
       "  </tbody>\n",
       "</table>\n",
       "</div>"
      ],
      "text/plain": [
       "                       colName  non-null values  null values  percentNA  \\\n",
       "0                Test_Time (s)         23888882            0        0.0   \n",
       "1                  Cycle_Index         23888882            0        0.0   \n",
       "2                  Current (A)         23888882            0        0.0   \n",
       "3                  Voltage (V)         23888882            0        0.0   \n",
       "4         Charge_Capacity (Ah)         23888882            0        0.0   \n",
       "5      Discharge_Capacity (Ah)         23888882            0        0.0   \n",
       "6           Charge_Energy (Wh)         23888882            0        0.0   \n",
       "7        Discharge_Energy (Wh)         23888882            0        0.0   \n",
       "8  Environment_Temperature (C)         23888882            0        0.0   \n",
       "9         Cell_Temperature (C)         23888882            0        0.0   \n",
       "\n",
       "     unique    dtype  \n",
       "0  23874887  float64  \n",
       "1     19175  float64  \n",
       "2      2039  float64  \n",
       "3      2333  float64  \n",
       "4     19275  float64  \n",
       "5      9734  float64  \n",
       "6     63812  float64  \n",
       "7     31488  float64  \n",
       "8     10689  float64  \n",
       "9     39205  float64  "
      ]
     },
     "execution_count": 15,
     "metadata": {},
     "output_type": "execute_result"
    }
   ],
   "source": [
    "insights_of_df(battery)"
   ]
  },
  {
   "cell_type": "markdown",
   "id": "f9b168fd",
   "metadata": {},
   "source": [
    "# Data Preprocessing"
   ]
  },
  {
   "cell_type": "markdown",
   "id": "e32a048c",
   "metadata": {},
   "source": [
    "## Feature Selection - Principal Component Analysis (PCA)"
   ]
  },
  {
   "cell_type": "code",
   "execution_count": 16,
   "id": "eedbe08a",
   "metadata": {},
   "outputs": [],
   "source": [
    "# Reduce number of instances\n",
    "small_battery = battery.groupby(battery['Cycle_Index']).mean()"
   ]
  },
  {
   "cell_type": "code",
   "execution_count": 17,
   "id": "61b95415",
   "metadata": {},
   "outputs": [
    {
     "data": {
      "image/png": "[encoded data removed]",
      "text/plain": [
       "<Figure size 2200x500 with 1 Axes>"
      ]
     },
     "metadata": {},
     "output_type": "display_data"
    }
   ],
   "source": [
    "from sklearn.pipeline import make_pipeline\n",
    "from sklearn.feature_selection import chi2\n",
    "from sklearn.preprocessing import MinMaxScaler\n",
    "from sklearn.feature_selection import SelectKBest\n",
    "\n",
    "from sklearn.preprocessing import StandardScaler\n",
    "from sklearn.decomposition import PCA\n",
    "\n",
    "X = small_battery.iloc[:, 1:]\n",
    "scaler = StandardScaler()\n",
    "pca = PCA()\n",
    "pipeline = make_pipeline(scaler, pca)\n",
    "pipeline.fit(X)\n",
    "\n",
    "# Plot a bar chart describing the variance of each feature\n",
    "features = range(pca.n_components_)\n",
    "features2 = X.columns\n",
    "\n",
    "# Define bar chart size\n",
    "_ = plt.figure(figsize=(22, 5))\n",
    "\n",
    "# Define actual bar chart\n",
    "_ = plt.bar(features2, pca.explained_variance_)\n",
    "\n",
    "# Labels, Titles und Ticks of the bar chart \n",
    "_ = plt.xlabel('PCA')\n",
    "_ = plt.ylabel('Var')\n",
    "_ = plt.xticks(features2, rotation=45)\n",
    "_ = plt.title(\"Important PCs\")\n",
    "\n",
    "# Display the bar chart\n",
    "plt.show()"
   ]
  },
  {
   "cell_type": "code",
   "execution_count": 18,
   "id": "e2e5c260",
   "metadata": {},
   "outputs": [],
   "source": [
    "# Drop irrelevant features from PCA\n",
    "small_battery = small_battery.drop(\n",
    "    ['Environment_Temperature (C)', 'Cell_Temperature (C)'], axis=1)"
   ]
  },
  {
   "cell_type": "code",
   "execution_count": 19,
   "id": "98f3ef45",
   "metadata": {},
   "outputs": [],
   "source": [
    "# Save reduced dataset to disk\n",
    "path = init_path(to='Output/small_battery.pkl')\n",
    "small_battery.to_pickle(path)\n",
    "small_battery = pd.read_pickle(path)"
   ]
  },
  {
   "cell_type": "code",
   "execution_count": 20,
   "id": "673abb84",
   "metadata": {},
   "outputs": [
    {
     "data": {
      "text/html": [
       "<div>\n",
       "<style scoped>\n",
       "    .dataframe tbody tr th:only-of-type {\n",
       "        vertical-align: middle;\n",
       "    }\n",
       "\n",
       "    .dataframe tbody tr th {\n",
       "        vertical-align: top;\n",
       "    }\n",
       "\n",
       "    .dataframe thead th {\n",
       "        text-align: right;\n",
       "    }\n",
       "</style>\n",
       "<table border=\"1\" class=\"dataframe\">\n",
       "  <thead>\n",
       "    <tr style=\"text-align: right;\">\n",
       "      <th></th>\n",
       "      <th>Test_Time (s)</th>\n",
       "      <th>Current (A)</th>\n",
       "      <th>Voltage (V)</th>\n",
       "      <th>Charge_Capacity (Ah)</th>\n",
       "      <th>Discharge_Capacity (Ah)</th>\n",
       "      <th>Charge_Energy (Wh)</th>\n",
       "      <th>Discharge_Energy (Wh)</th>\n",
       "    </tr>\n",
       "    <tr>\n",
       "      <th>Cycle_Index</th>\n",
       "      <th></th>\n",
       "      <th></th>\n",
       "      <th></th>\n",
       "      <th></th>\n",
       "      <th></th>\n",
       "      <th></th>\n",
       "      <th></th>\n",
       "    </tr>\n",
       "  </thead>\n",
       "  <tbody>\n",
       "    <tr>\n",
       "      <th>1.0</th>\n",
       "      <td>7934.390433</td>\n",
       "      <td>-0.097194</td>\n",
       "      <td>3.496759</td>\n",
       "      <td>1.671898</td>\n",
       "      <td>0.647405</td>\n",
       "      <td>6.278663</td>\n",
       "      <td>2.343179</td>\n",
       "    </tr>\n",
       "    <tr>\n",
       "      <th>2.0</th>\n",
       "      <td>23676.607595</td>\n",
       "      <td>-0.062176</td>\n",
       "      <td>3.484337</td>\n",
       "      <td>1.699177</td>\n",
       "      <td>0.630862</td>\n",
       "      <td>6.334384</td>\n",
       "      <td>2.283184</td>\n",
       "    </tr>\n",
       "    <tr>\n",
       "      <th>3.0</th>\n",
       "      <td>39528.513582</td>\n",
       "      <td>-0.064466</td>\n",
       "      <td>3.485332</td>\n",
       "      <td>1.699607</td>\n",
       "      <td>0.632667</td>\n",
       "      <td>6.337541</td>\n",
       "      <td>2.291588</td>\n",
       "    </tr>\n",
       "    <tr>\n",
       "      <th>4.0</th>\n",
       "      <td>56647.632293</td>\n",
       "      <td>-0.029947</td>\n",
       "      <td>3.618597</td>\n",
       "      <td>2.475763</td>\n",
       "      <td>1.171745</td>\n",
       "      <td>9.361761</td>\n",
       "      <td>4.036673</td>\n",
       "    </tr>\n",
       "    <tr>\n",
       "      <th>5.0</th>\n",
       "      <td>75399.874005</td>\n",
       "      <td>-0.036432</td>\n",
       "      <td>3.566395</td>\n",
       "      <td>1.454018</td>\n",
       "      <td>0.414557</td>\n",
       "      <td>5.421763</td>\n",
       "      <td>1.464777</td>\n",
       "    </tr>\n",
       "  </tbody>\n",
       "</table>\n",
       "</div>"
      ],
      "text/plain": [
       "             Test_Time (s)  Current (A)  Voltage (V)  Charge_Capacity (Ah)  \\\n",
       "Cycle_Index                                                                  \n",
       "1.0            7934.390433    -0.097194     3.496759              1.671898   \n",
       "2.0           23676.607595    -0.062176     3.484337              1.699177   \n",
       "3.0           39528.513582    -0.064466     3.485332              1.699607   \n",
       "4.0           56647.632293    -0.029947     3.618597              2.475763   \n",
       "5.0           75399.874005    -0.036432     3.566395              1.454018   \n",
       "\n",
       "             Discharge_Capacity (Ah)  Charge_Energy (Wh)  \\\n",
       "Cycle_Index                                                \n",
       "1.0                         0.647405            6.278663   \n",
       "2.0                         0.630862            6.334384   \n",
       "3.0                         0.632667            6.337541   \n",
       "4.0                         1.171745            9.361761   \n",
       "5.0                         0.414557            5.421763   \n",
       "\n",
       "             Discharge_Energy (Wh)  \n",
       "Cycle_Index                         \n",
       "1.0                       2.343179  \n",
       "2.0                       2.283184  \n",
       "3.0                       2.291588  \n",
       "4.0                       4.036673  \n",
       "5.0                       1.464777  "
      ]
     },
     "execution_count": 20,
     "metadata": {},
     "output_type": "execute_result"
    }
   ],
   "source": [
    "small_battery.head()"
   ]
  },
  {
   "cell_type": "code",
   "execution_count": 21,
   "id": "9e7aacbd",
   "metadata": {},
   "outputs": [
    {
     "data": {
      "text/html": [
       "<div>\n",
       "<style scoped>\n",
       "    .dataframe tbody tr th:only-of-type {\n",
       "        vertical-align: middle;\n",
       "    }\n",
       "\n",
       "    .dataframe tbody tr th {\n",
       "        vertical-align: top;\n",
       "    }\n",
       "\n",
       "    .dataframe thead th {\n",
       "        text-align: right;\n",
       "    }\n",
       "</style>\n",
       "<table border=\"1\" class=\"dataframe\">\n",
       "  <thead>\n",
       "    <tr style=\"text-align: right;\">\n",
       "      <th></th>\n",
       "      <th>Test_Time (s)</th>\n",
       "      <th>Current (A)</th>\n",
       "      <th>Voltage (V)</th>\n",
       "      <th>Charge_Capacity (Ah)</th>\n",
       "      <th>Discharge_Capacity (Ah)</th>\n",
       "      <th>Charge_Energy (Wh)</th>\n",
       "      <th>Discharge_Energy (Wh)</th>\n",
       "    </tr>\n",
       "  </thead>\n",
       "  <tbody>\n",
       "    <tr>\n",
       "      <th>count</th>\n",
       "      <td>1.917500e+04</td>\n",
       "      <td>19175.000000</td>\n",
       "      <td>19175.000000</td>\n",
       "      <td>19175.000000</td>\n",
       "      <td>19175.000000</td>\n",
       "      <td>19175.000000</td>\n",
       "      <td>19175.000000</td>\n",
       "    </tr>\n",
       "    <tr>\n",
       "      <th>mean</th>\n",
       "      <td>3.066868e+07</td>\n",
       "      <td>-0.310247</td>\n",
       "      <td>3.379044</td>\n",
       "      <td>0.408434</td>\n",
       "      <td>0.143121</td>\n",
       "      <td>1.468028</td>\n",
       "      <td>0.492227</td>\n",
       "    </tr>\n",
       "    <tr>\n",
       "      <th>std</th>\n",
       "      <td>1.167348e+07</td>\n",
       "      <td>0.337714</td>\n",
       "      <td>0.082780</td>\n",
       "      <td>0.342212</td>\n",
       "      <td>0.127923</td>\n",
       "      <td>1.268894</td>\n",
       "      <td>0.455077</td>\n",
       "    </tr>\n",
       "    <tr>\n",
       "      <th>min</th>\n",
       "      <td>7.934390e+03</td>\n",
       "      <td>-0.997238</td>\n",
       "      <td>2.682210</td>\n",
       "      <td>0.000000</td>\n",
       "      <td>0.000000</td>\n",
       "      <td>0.000000</td>\n",
       "      <td>0.000000</td>\n",
       "    </tr>\n",
       "    <tr>\n",
       "      <th>25%</th>\n",
       "      <td>2.540319e+07</td>\n",
       "      <td>-0.627955</td>\n",
       "      <td>3.298308</td>\n",
       "      <td>0.085692</td>\n",
       "      <td>0.029692</td>\n",
       "      <td>0.287269</td>\n",
       "      <td>0.097308</td>\n",
       "    </tr>\n",
       "    <tr>\n",
       "      <th>50%</th>\n",
       "      <td>2.956835e+07</td>\n",
       "      <td>-0.155833</td>\n",
       "      <td>3.368514</td>\n",
       "      <td>0.458573</td>\n",
       "      <td>0.167645</td>\n",
       "      <td>1.662050</td>\n",
       "      <td>0.562804</td>\n",
       "    </tr>\n",
       "    <tr>\n",
       "      <th>75%</th>\n",
       "      <td>3.571093e+07</td>\n",
       "      <td>-0.002231</td>\n",
       "      <td>3.446318</td>\n",
       "      <td>0.516880</td>\n",
       "      <td>0.193618</td>\n",
       "      <td>1.866243</td>\n",
       "      <td>0.668108</td>\n",
       "    </tr>\n",
       "    <tr>\n",
       "      <th>max</th>\n",
       "      <td>5.764031e+07</td>\n",
       "      <td>0.131182</td>\n",
       "      <td>4.056593</td>\n",
       "      <td>9.819423</td>\n",
       "      <td>5.226918</td>\n",
       "      <td>32.527234</td>\n",
       "      <td>16.916578</td>\n",
       "    </tr>\n",
       "  </tbody>\n",
       "</table>\n",
       "</div>"
      ],
      "text/plain": [
       "       Test_Time (s)   Current (A)   Voltage (V)  Charge_Capacity (Ah)  \\\n",
       "count   1.917500e+04  19175.000000  19175.000000          19175.000000   \n",
       "mean    3.066868e+07     -0.310247      3.379044              0.408434   \n",
       "std     1.167348e+07      0.337714      0.082780              0.342212   \n",
       "min     7.934390e+03     -0.997238      2.682210              0.000000   \n",
       "25%     2.540319e+07     -0.627955      3.298308              0.085692   \n",
       "50%     2.956835e+07     -0.155833      3.368514              0.458573   \n",
       "75%     3.571093e+07     -0.002231      3.446318              0.516880   \n",
       "max     5.764031e+07      0.131182      4.056593              9.819423   \n",
       "\n",
       "       Discharge_Capacity (Ah)  Charge_Energy (Wh)  Discharge_Energy (Wh)  \n",
       "count             19175.000000        19175.000000           19175.000000  \n",
       "mean                  0.143121            1.468028               0.492227  \n",
       "std                   0.127923            1.268894               0.455077  \n",
       "min                   0.000000            0.000000               0.000000  \n",
       "25%                   0.029692            0.287269               0.097308  \n",
       "50%                   0.167645            1.662050               0.562804  \n",
       "75%                   0.193618            1.866243               0.668108  \n",
       "max                   5.226918           32.527234              16.916578  "
      ]
     },
     "execution_count": 21,
     "metadata": {},
     "output_type": "execute_result"
    }
   ],
   "source": [
    "small_battery.describe()"
   ]
  },
  {
   "cell_type": "code",
   "execution_count": 22,
   "id": "5adef4f4",
   "metadata": {},
   "outputs": [
    {
     "data": {
      "image/png": "[encoded data removed]",
      "text/plain": [
       "<Figure size 1000x1000 with 9 Axes>"
      ]
     },
     "metadata": {},
     "output_type": "display_data"
    }
   ],
   "source": [
    "%matplotlib inline\n",
    "import matplotlib.pyplot as plt\n",
    "\n",
    "plt.rc('font', size=14)\n",
    "plt.rc('axes', labelsize=14, titlesize=10)\n",
    "plt.rc('legend', fontsize=14)\n",
    "plt.rc('xtick', labelsize=8)\n",
    "plt.rc('ytick', labelsize=8)\n",
    "\n",
    "small_battery.hist(bins=50, figsize=(10, 10))\n",
    "plt.show()"
   ]
  },
  {
   "cell_type": "markdown",
   "id": "0c98506c",
   "metadata": {},
   "source": [
    "## Correlation Matrix"
   ]
  },
  {
   "cell_type": "code",
   "execution_count": 23,
   "id": "f2eb83dd",
   "metadata": {},
   "outputs": [
    {
     "data": {
      "image/png": "[encoded data removed]",
      "text/plain": [
       "<Figure size 640x480 with 2 Axes>"
      ]
     },
     "metadata": {},
     "output_type": "display_data"
    }
   ],
   "source": [
    "sns.set(font_scale=0.5)\n",
    "corr_matrix = small_battery.corr()\n",
    "sns.heatmap(corr_matrix, annot=True)\n",
    "plt.title('Correlation Matrix for Battery Dataset')\n",
    "plt.show()"
   ]
  },
  {
   "cell_type": "markdown",
   "id": "86beff44",
   "metadata": {},
   "source": [
    "# ML Modeling"
   ]
  },
  {
   "cell_type": "code",
   "execution_count": 24,
   "id": "703db84d",
   "metadata": {},
   "outputs": [
    {
     "data": {
      "text/html": [
       "<div>\n",
       "<style scoped>\n",
       "    .dataframe tbody tr th:only-of-type {\n",
       "        vertical-align: middle;\n",
       "    }\n",
       "\n",
       "    .dataframe tbody tr th {\n",
       "        vertical-align: top;\n",
       "    }\n",
       "\n",
       "    .dataframe thead th {\n",
       "        text-align: right;\n",
       "    }\n",
       "</style>\n",
       "<table border=\"1\" class=\"dataframe\">\n",
       "  <thead>\n",
       "    <tr style=\"text-align: right;\">\n",
       "      <th></th>\n",
       "      <th>Test_Time (s)</th>\n",
       "      <th>Current (A)</th>\n",
       "      <th>Voltage (V)</th>\n",
       "      <th>Charge_Capacity (Ah)</th>\n",
       "      <th>Discharge_Capacity (Ah)</th>\n",
       "      <th>Charge_Energy (Wh)</th>\n",
       "      <th>Discharge_Energy (Wh)</th>\n",
       "      <th>RUL</th>\n",
       "    </tr>\n",
       "    <tr>\n",
       "      <th>Cycle_Index</th>\n",
       "      <th></th>\n",
       "      <th></th>\n",
       "      <th></th>\n",
       "      <th></th>\n",
       "      <th></th>\n",
       "      <th></th>\n",
       "      <th></th>\n",
       "      <th></th>\n",
       "    </tr>\n",
       "  </thead>\n",
       "  <tbody>\n",
       "    <tr>\n",
       "      <th>1.0</th>\n",
       "      <td>7.934390e+03</td>\n",
       "      <td>-0.097194</td>\n",
       "      <td>3.496759</td>\n",
       "      <td>1.671898</td>\n",
       "      <td>0.647405</td>\n",
       "      <td>6.278663</td>\n",
       "      <td>2.343179</td>\n",
       "      <td>19174.0</td>\n",
       "    </tr>\n",
       "    <tr>\n",
       "      <th>2.0</th>\n",
       "      <td>2.367661e+04</td>\n",
       "      <td>-0.062176</td>\n",
       "      <td>3.484337</td>\n",
       "      <td>1.699177</td>\n",
       "      <td>0.630862</td>\n",
       "      <td>6.334384</td>\n",
       "      <td>2.283184</td>\n",
       "      <td>19173.0</td>\n",
       "    </tr>\n",
       "    <tr>\n",
       "      <th>3.0</th>\n",
       "      <td>3.952851e+04</td>\n",
       "      <td>-0.064466</td>\n",
       "      <td>3.485332</td>\n",
       "      <td>1.699607</td>\n",
       "      <td>0.632667</td>\n",
       "      <td>6.337541</td>\n",
       "      <td>2.291588</td>\n",
       "      <td>19172.0</td>\n",
       "    </tr>\n",
       "    <tr>\n",
       "      <th>4.0</th>\n",
       "      <td>5.664763e+04</td>\n",
       "      <td>-0.029947</td>\n",
       "      <td>3.618597</td>\n",
       "      <td>2.475763</td>\n",
       "      <td>1.171745</td>\n",
       "      <td>9.361761</td>\n",
       "      <td>4.036673</td>\n",
       "      <td>19171.0</td>\n",
       "    </tr>\n",
       "    <tr>\n",
       "      <th>5.0</th>\n",
       "      <td>7.539987e+04</td>\n",
       "      <td>-0.036432</td>\n",
       "      <td>3.566395</td>\n",
       "      <td>1.454018</td>\n",
       "      <td>0.414557</td>\n",
       "      <td>5.421763</td>\n",
       "      <td>1.464777</td>\n",
       "      <td>19170.0</td>\n",
       "    </tr>\n",
       "    <tr>\n",
       "      <th>...</th>\n",
       "      <td>...</td>\n",
       "      <td>...</td>\n",
       "      <td>...</td>\n",
       "      <td>...</td>\n",
       "      <td>...</td>\n",
       "      <td>...</td>\n",
       "      <td>...</td>\n",
       "      <td>...</td>\n",
       "    </tr>\n",
       "    <tr>\n",
       "      <th>19171.0</th>\n",
       "      <td>5.077758e+07</td>\n",
       "      <td>-0.001778</td>\n",
       "      <td>3.297111</td>\n",
       "      <td>0.049333</td>\n",
       "      <td>0.018444</td>\n",
       "      <td>0.167111</td>\n",
       "      <td>0.060444</td>\n",
       "      <td>4.0</td>\n",
       "    </tr>\n",
       "    <tr>\n",
       "      <th>19172.0</th>\n",
       "      <td>5.078447e+07</td>\n",
       "      <td>-0.171828</td>\n",
       "      <td>3.226446</td>\n",
       "      <td>0.488071</td>\n",
       "      <td>0.356586</td>\n",
       "      <td>1.658896</td>\n",
       "      <td>1.160421</td>\n",
       "      <td>3.0</td>\n",
       "    </tr>\n",
       "    <tr>\n",
       "      <th>19173.0</th>\n",
       "      <td>5.079782e+07</td>\n",
       "      <td>-0.028330</td>\n",
       "      <td>3.231563</td>\n",
       "      <td>0.756450</td>\n",
       "      <td>0.287493</td>\n",
       "      <td>2.528943</td>\n",
       "      <td>0.935721</td>\n",
       "      <td>2.0</td>\n",
       "    </tr>\n",
       "    <tr>\n",
       "      <th>19174.0</th>\n",
       "      <td>5.081269e+07</td>\n",
       "      <td>-0.027231</td>\n",
       "      <td>3.232633</td>\n",
       "      <td>0.757340</td>\n",
       "      <td>0.286736</td>\n",
       "      <td>2.530917</td>\n",
       "      <td>0.933290</td>\n",
       "      <td>1.0</td>\n",
       "    </tr>\n",
       "    <tr>\n",
       "      <th>19175.0</th>\n",
       "      <td>5.082016e+07</td>\n",
       "      <td>0.000000</td>\n",
       "      <td>2.684484</td>\n",
       "      <td>0.000000</td>\n",
       "      <td>0.000000</td>\n",
       "      <td>0.000000</td>\n",
       "      <td>0.000000</td>\n",
       "      <td>0.0</td>\n",
       "    </tr>\n",
       "  </tbody>\n",
       "</table>\n",
       "<p>19175 rows × 8 columns</p>\n",
       "</div>"
      ],
      "text/plain": [
       "             Test_Time (s)  Current (A)  Voltage (V)  Charge_Capacity (Ah)  \\\n",
       "Cycle_Index                                                                  \n",
       "1.0           7.934390e+03    -0.097194     3.496759              1.671898   \n",
       "2.0           2.367661e+04    -0.062176     3.484337              1.699177   \n",
       "3.0           3.952851e+04    -0.064466     3.485332              1.699607   \n",
       "4.0           5.664763e+04    -0.029947     3.618597              2.475763   \n",
       "5.0           7.539987e+04    -0.036432     3.566395              1.454018   \n",
       "...                    ...          ...          ...                   ...   \n",
       "19171.0       5.077758e+07    -0.001778     3.297111              0.049333   \n",
       "19172.0       5.078447e+07    -0.171828     3.226446              0.488071   \n",
       "19173.0       5.079782e+07    -0.028330     3.231563              0.756450   \n",
       "19174.0       5.081269e+07    -0.027231     3.232633              0.757340   \n",
       "19175.0       5.082016e+07     0.000000     2.684484              0.000000   \n",
       "\n",
       "             Discharge_Capacity (Ah)  Charge_Energy (Wh)  \\\n",
       "Cycle_Index                                                \n",
       "1.0                         0.647405            6.278663   \n",
       "2.0                         0.630862            6.334384   \n",
       "3.0                         0.632667            6.337541   \n",
       "4.0                         1.171745            9.361761   \n",
       "5.0                         0.414557            5.421763   \n",
       "...                              ...                 ...   \n",
       "19171.0                     0.018444            0.167111   \n",
       "19172.0                     0.356586            1.658896   \n",
       "19173.0                     0.287493            2.528943   \n",
       "19174.0                     0.286736            2.530917   \n",
       "19175.0                     0.000000            0.000000   \n",
       "\n",
       "             Discharge_Energy (Wh)      RUL  \n",
       "Cycle_Index                                  \n",
       "1.0                       2.343179  19174.0  \n",
       "2.0                       2.283184  19173.0  \n",
       "3.0                       2.291588  19172.0  \n",
       "4.0                       4.036673  19171.0  \n",
       "5.0                       1.464777  19170.0  \n",
       "...                            ...      ...  \n",
       "19171.0                   0.060444      4.0  \n",
       "19172.0                   1.160421      3.0  \n",
       "19173.0                   0.935721      2.0  \n",
       "19174.0                   0.933290      1.0  \n",
       "19175.0                   0.000000      0.0  \n",
       "\n",
       "[19175 rows x 8 columns]"
      ]
     },
     "execution_count": 24,
     "metadata": {},
     "output_type": "execute_result"
    }
   ],
   "source": [
    "# Add RUL feature\n",
    "small_battery['RUL'] = 19175 - small_battery.index\n",
    "small_battery"
   ]
  },
  {
   "cell_type": "code",
   "execution_count": 25,
   "id": "a5302777",
   "metadata": {},
   "outputs": [
    {
     "data": {
      "text/html": [
       "<div>\n",
       "<style scoped>\n",
       "    .dataframe tbody tr th:only-of-type {\n",
       "        vertical-align: middle;\n",
       "    }\n",
       "\n",
       "    .dataframe tbody tr th {\n",
       "        vertical-align: top;\n",
       "    }\n",
       "\n",
       "    .dataframe thead th {\n",
       "        text-align: right;\n",
       "    }\n",
       "</style>\n",
       "<table border=\"1\" class=\"dataframe\">\n",
       "  <thead>\n",
       "    <tr style=\"text-align: right;\">\n",
       "      <th></th>\n",
       "      <th>Test_Time (s)</th>\n",
       "      <th>Current (A)</th>\n",
       "      <th>Voltage (V)</th>\n",
       "      <th>Charge_Capacity (Ah)</th>\n",
       "      <th>Discharge_Capacity (Ah)</th>\n",
       "      <th>Charge_Energy (Wh)</th>\n",
       "      <th>Discharge_Energy (Wh)</th>\n",
       "      <th>RUL</th>\n",
       "    </tr>\n",
       "    <tr>\n",
       "      <th>Cycle_Index</th>\n",
       "      <th></th>\n",
       "      <th></th>\n",
       "      <th></th>\n",
       "      <th></th>\n",
       "      <th></th>\n",
       "      <th></th>\n",
       "      <th></th>\n",
       "      <th></th>\n",
       "    </tr>\n",
       "  </thead>\n",
       "  <tbody>\n",
       "    <tr>\n",
       "      <th>1.0</th>\n",
       "      <td>7.934390e+03</td>\n",
       "      <td>-0.097194</td>\n",
       "      <td>3.496759</td>\n",
       "      <td>1.671898</td>\n",
       "      <td>0.647405</td>\n",
       "      <td>6.278663</td>\n",
       "      <td>2.343179</td>\n",
       "      <td>19174.0</td>\n",
       "    </tr>\n",
       "    <tr>\n",
       "      <th>2.0</th>\n",
       "      <td>2.367661e+04</td>\n",
       "      <td>-0.062176</td>\n",
       "      <td>3.484337</td>\n",
       "      <td>1.699177</td>\n",
       "      <td>0.630862</td>\n",
       "      <td>6.334384</td>\n",
       "      <td>2.283184</td>\n",
       "      <td>19173.0</td>\n",
       "    </tr>\n",
       "    <tr>\n",
       "      <th>3.0</th>\n",
       "      <td>3.952851e+04</td>\n",
       "      <td>-0.064466</td>\n",
       "      <td>3.485332</td>\n",
       "      <td>1.699607</td>\n",
       "      <td>0.632667</td>\n",
       "      <td>6.337541</td>\n",
       "      <td>2.291588</td>\n",
       "      <td>19172.0</td>\n",
       "    </tr>\n",
       "    <tr>\n",
       "      <th>4.0</th>\n",
       "      <td>5.664763e+04</td>\n",
       "      <td>-0.029947</td>\n",
       "      <td>3.618597</td>\n",
       "      <td>2.475763</td>\n",
       "      <td>1.171745</td>\n",
       "      <td>9.361761</td>\n",
       "      <td>4.036673</td>\n",
       "      <td>19171.0</td>\n",
       "    </tr>\n",
       "    <tr>\n",
       "      <th>5.0</th>\n",
       "      <td>7.539987e+04</td>\n",
       "      <td>-0.036432</td>\n",
       "      <td>3.566395</td>\n",
       "      <td>1.454018</td>\n",
       "      <td>0.414557</td>\n",
       "      <td>5.421763</td>\n",
       "      <td>1.464777</td>\n",
       "      <td>19170.0</td>\n",
       "    </tr>\n",
       "    <tr>\n",
       "      <th>...</th>\n",
       "      <td>...</td>\n",
       "      <td>...</td>\n",
       "      <td>...</td>\n",
       "      <td>...</td>\n",
       "      <td>...</td>\n",
       "      <td>...</td>\n",
       "      <td>...</td>\n",
       "      <td>...</td>\n",
       "    </tr>\n",
       "    <tr>\n",
       "      <th>19171.0</th>\n",
       "      <td>5.077758e+07</td>\n",
       "      <td>-0.001778</td>\n",
       "      <td>3.297111</td>\n",
       "      <td>0.049333</td>\n",
       "      <td>0.018444</td>\n",
       "      <td>0.167111</td>\n",
       "      <td>0.060444</td>\n",
       "      <td>4.0</td>\n",
       "    </tr>\n",
       "    <tr>\n",
       "      <th>19172.0</th>\n",
       "      <td>5.078447e+07</td>\n",
       "      <td>-0.171828</td>\n",
       "      <td>3.226446</td>\n",
       "      <td>0.488071</td>\n",
       "      <td>0.356586</td>\n",
       "      <td>1.658896</td>\n",
       "      <td>1.160421</td>\n",
       "      <td>3.0</td>\n",
       "    </tr>\n",
       "    <tr>\n",
       "      <th>19173.0</th>\n",
       "      <td>5.079782e+07</td>\n",
       "      <td>-0.028330</td>\n",
       "      <td>3.231563</td>\n",
       "      <td>0.756450</td>\n",
       "      <td>0.287493</td>\n",
       "      <td>2.528943</td>\n",
       "      <td>0.935721</td>\n",
       "      <td>2.0</td>\n",
       "    </tr>\n",
       "    <tr>\n",
       "      <th>19174.0</th>\n",
       "      <td>5.081269e+07</td>\n",
       "      <td>-0.027231</td>\n",
       "      <td>3.232633</td>\n",
       "      <td>0.757340</td>\n",
       "      <td>0.286736</td>\n",
       "      <td>2.530917</td>\n",
       "      <td>0.933290</td>\n",
       "      <td>1.0</td>\n",
       "    </tr>\n",
       "    <tr>\n",
       "      <th>19175.0</th>\n",
       "      <td>5.082016e+07</td>\n",
       "      <td>0.000000</td>\n",
       "      <td>2.684484</td>\n",
       "      <td>0.000000</td>\n",
       "      <td>0.000000</td>\n",
       "      <td>0.000000</td>\n",
       "      <td>0.000000</td>\n",
       "      <td>0.0</td>\n",
       "    </tr>\n",
       "  </tbody>\n",
       "</table>\n",
       "<p>19175 rows × 8 columns</p>\n",
       "</div>"
      ],
      "text/plain": [
       "             Test_Time (s)  Current (A)  Voltage (V)  Charge_Capacity (Ah)  \\\n",
       "Cycle_Index                                                                  \n",
       "1.0           7.934390e+03    -0.097194     3.496759              1.671898   \n",
       "2.0           2.367661e+04    -0.062176     3.484337              1.699177   \n",
       "3.0           3.952851e+04    -0.064466     3.485332              1.699607   \n",
       "4.0           5.664763e+04    -0.029947     3.618597              2.475763   \n",
       "5.0           7.539987e+04    -0.036432     3.566395              1.454018   \n",
       "...                    ...          ...          ...                   ...   \n",
       "19171.0       5.077758e+07    -0.001778     3.297111              0.049333   \n",
       "19172.0       5.078447e+07    -0.171828     3.226446              0.488071   \n",
       "19173.0       5.079782e+07    -0.028330     3.231563              0.756450   \n",
       "19174.0       5.081269e+07    -0.027231     3.232633              0.757340   \n",
       "19175.0       5.082016e+07     0.000000     2.684484              0.000000   \n",
       "\n",
       "             Discharge_Capacity (Ah)  Charge_Energy (Wh)  \\\n",
       "Cycle_Index                                                \n",
       "1.0                         0.647405            6.278663   \n",
       "2.0                         0.630862            6.334384   \n",
       "3.0                         0.632667            6.337541   \n",
       "4.0                         1.171745            9.361761   \n",
       "5.0                         0.414557            5.421763   \n",
       "...                              ...                 ...   \n",
       "19171.0                     0.018444            0.167111   \n",
       "19172.0                     0.356586            1.658896   \n",
       "19173.0                     0.287493            2.528943   \n",
       "19174.0                     0.286736            2.530917   \n",
       "19175.0                     0.000000            0.000000   \n",
       "\n",
       "             Discharge_Energy (Wh)      RUL  \n",
       "Cycle_Index                                  \n",
       "1.0                       2.343179  19174.0  \n",
       "2.0                       2.283184  19173.0  \n",
       "3.0                       2.291588  19172.0  \n",
       "4.0                       4.036673  19171.0  \n",
       "5.0                       1.464777  19170.0  \n",
       "...                            ...      ...  \n",
       "19171.0                   0.060444      4.0  \n",
       "19172.0                   1.160421      3.0  \n",
       "19173.0                   0.935721      2.0  \n",
       "19174.0                   0.933290      1.0  \n",
       "19175.0                   0.000000      0.0  \n",
       "\n",
       "[19175 rows x 8 columns]"
      ]
     },
     "execution_count": 25,
     "metadata": {},
     "output_type": "execute_result"
    }
   ],
   "source": [
    "small_battery"
   ]
  },
  {
   "cell_type": "markdown",
   "id": "d141a96a",
   "metadata": {},
   "source": [
    "## Train-Test Split"
   ]
  },
  {
   "cell_type": "code",
   "execution_count": 26,
   "id": "b9f42c6e",
   "metadata": {},
   "outputs": [],
   "source": [
    "from sklearn.model_selection import train_test_split"
   ]
  },
  {
   "cell_type": "code",
   "execution_count": 27,
   "id": "a0bdb284",
   "metadata": {},
   "outputs": [],
   "source": [
    "X_full, y_full = battery.iloc[:, :-1], battery.iloc[:, -1]\n",
    "X_full_train, X_full_test, y_full_train, y_full_test = \\\n",
    "    train_test_split(X_full, y_full, test_size=0.33, random_state=42)"
   ]
  },
  {
   "cell_type": "code",
   "execution_count": 28,
   "id": "9417bf79",
   "metadata": {},
   "outputs": [],
   "source": [
    "X_red, y_red = small_battery.iloc[:, :-1], small_battery.iloc[:, -1]\n",
    "X_red_train, X_red_test, y_red_train, y_red_test = \\\n",
    "    train_test_split(X_red, y_red, test_size=0.33, random_state=42)"
   ]
  },
  {
   "cell_type": "markdown",
   "id": "7d134fe2",
   "metadata": {},
   "source": [
    "## Model 1: Linear Regression"
   ]
  },
  {
   "cell_type": "code",
   "execution_count": 29,
   "id": "d21e9e31",
   "metadata": {},
   "outputs": [],
   "source": [
    "from sklearn.linear_model import LinearRegression"
   ]
  },
  {
   "cell_type": "markdown",
   "id": "51a0b1d0",
   "metadata": {},
   "source": [
    "### Full Dataset"
   ]
  },
  {
   "cell_type": "code",
   "execution_count": 30,
   "id": "334e48dc",
   "metadata": {},
   "outputs": [
    {
     "data": {
      "text/plain": [
       "0.8409660117090699"
      ]
     },
     "execution_count": 30,
     "metadata": {},
     "output_type": "execute_result"
    }
   ],
   "source": [
    "lr_full = LinearRegression()\n",
    "lr_full.fit(X_full_train, y_full_train)\n",
    "lr_full.score(X_full_train, y_full_train)"
   ]
  },
  {
   "cell_type": "code",
   "execution_count": 31,
   "id": "9ebf6cb4",
   "metadata": {},
   "outputs": [
    {
     "data": {
      "text/plain": [
       "0.841230690174698"
      ]
     },
     "execution_count": 31,
     "metadata": {},
     "output_type": "execute_result"
    }
   ],
   "source": [
    "lr_full.predict(X_full_test)\n",
    "lr_full.score(X_full_test, y_full_test)"
   ]
  },
  {
   "cell_type": "markdown",
   "id": "052634ea",
   "metadata": {},
   "source": [
    "### Reduced Dataset"
   ]
  },
  {
   "cell_type": "code",
   "execution_count": 32,
   "id": "17c3d5f5",
   "metadata": {},
   "outputs": [
    {
     "data": {
      "text/plain": [
       "0.9158523759626975"
      ]
     },
     "execution_count": 32,
     "metadata": {},
     "output_type": "execute_result"
    }
   ],
   "source": [
    "lr_red = LinearRegression()\n",
    "lr_red.fit(X_red_train, y_red_train)\n",
    "lr_red.score(X_red_train, y_red_train)"
   ]
  },
  {
   "cell_type": "code",
   "execution_count": 33,
   "id": "4b2d7135",
   "metadata": {},
   "outputs": [
    {
     "data": {
      "text/plain": [
       "0.8558235187606313"
      ]
     },
     "execution_count": 33,
     "metadata": {},
     "output_type": "execute_result"
    }
   ],
   "source": [
    "lr_red.predict(X_red_test)\n",
    "lr_red.score(X_red_test, y_red_test)"
   ]
  },
  {
   "cell_type": "code",
   "execution_count": 34,
   "id": "2da5b99c",
   "metadata": {},
   "outputs": [
    {
     "name": "stdout",
     "output_type": "stream",
     "text": [
      "0.8558235187606313\n"
     ]
    }
   ],
   "source": [
    "pickle.dump(lr_full, open('Output/lr_full.model', 'wb'))\n",
    "pickle.dump(lr_red, open('Output/lr_reduced.model', 'wb'))\n",
    "\n",
    "# load the model from disk\n",
    "lr_red = pickle.load(open('Output/lr_reduced.model', 'rb'))\n",
    "result = lr_red.score(X_red_test, y_red_test)\n",
    "print(result)"
   ]
  },
  {
   "cell_type": "markdown",
   "id": "c20714a6",
   "metadata": {},
   "source": [
    "## Model 2: Huber Regression"
   ]
  },
  {
   "cell_type": "code",
   "execution_count": 35,
   "id": "1d4485c5",
   "metadata": {},
   "outputs": [
    {
     "data": {
      "text/plain": [
       "-1.3145318534673547"
      ]
     },
     "execution_count": 35,
     "metadata": {},
     "output_type": "execute_result"
    }
   ],
   "source": [
    "from sklearn.linear_model import HuberRegressor\n",
    "\n",
    "huber = HuberRegressor()\n",
    "huber.fit(X_red_train, y_red_train)\n",
    "huber.score(X_red_train, y_red_train)"
   ]
  },
  {
   "cell_type": "code",
   "execution_count": 36,
   "id": "5fefc56f",
   "metadata": {},
   "outputs": [
    {
     "data": {
      "text/plain": [
       "-1.3102903376707866"
      ]
     },
     "execution_count": 36,
     "metadata": {},
     "output_type": "execute_result"
    }
   ],
   "source": [
    "huber.predict(X_red_test)\n",
    "huber.score(X_red_test, y_red_test)"
   ]
  },
  {
   "cell_type": "code",
   "execution_count": 37,
   "id": "0f157af6",
   "metadata": {},
   "outputs": [
    {
     "name": "stdout",
     "output_type": "stream",
     "text": [
      "-1.3102903376707866\n"
     ]
    }
   ],
   "source": [
    "pickle.dump(huber, open('Output/huber.model', 'wb'))\n",
    "\n",
    "# load the model from disk\n",
    "huber = pickle.load(open('Output/huber.model', 'rb'))\n",
    "result = huber.score(X_red_test, y_red_test)\n",
    "print(result)"
   ]
  },
  {
   "cell_type": "markdown",
   "id": "09e2aa83",
   "metadata": {},
   "source": [
    "## Model 3: Theil Sen Regression"
   ]
  },
  {
   "cell_type": "code",
   "execution_count": 38,
   "id": "d5e62bfa",
   "metadata": {},
   "outputs": [
    {
     "data": {
      "text/plain": [
       "0.8133716500493011"
      ]
     },
     "execution_count": 38,
     "metadata": {},
     "output_type": "execute_result"
    }
   ],
   "source": [
    "from sklearn.linear_model import TheilSenRegressor\n",
    "\n",
    "theilsen = TheilSenRegressor(random_state=42)\n",
    "theilsen.fit(X_red_train, y_red_train)\n",
    "theilsen.score(X_red_train, y_red_train)"
   ]
  },
  {
   "cell_type": "code",
   "execution_count": 39,
   "id": "b20e1647",
   "metadata": {},
   "outputs": [
    {
     "name": "stdout",
     "output_type": "stream",
     "text": [
      "-1.3102903376707866\n"
     ]
    }
   ],
   "source": [
    "pickle.dump(huber, open('Output/theilsen.model', 'wb'))\n",
    "\n",
    "# load the model from disk\n",
    "theilsen = pickle.load(open('Output/theilsen.model', 'rb'))\n",
    "result = theilsen.score(X_red_test, y_red_test)\n",
    "print(result)"
   ]
  },
  {
   "cell_type": "markdown",
   "id": "76e57d8d",
   "metadata": {},
   "source": [
    "## Model 4: RANSAC Regression"
   ]
  },
  {
   "cell_type": "code",
   "execution_count": 40,
   "id": "6cd82937",
   "metadata": {},
   "outputs": [
    {
     "data": {
      "text/plain": [
       "0.7961699000070753"
      ]
     },
     "execution_count": 40,
     "metadata": {},
     "output_type": "execute_result"
    }
   ],
   "source": [
    "from sklearn.linear_model import RANSACRegressor\n",
    "\n",
    "ransac = RANSACRegressor(random_state=42)\n",
    "ransac.fit(X_red_train, y_red_train)\n",
    "ransac.score(X_red_train, y_red_train)"
   ]
  },
  {
   "cell_type": "code",
   "execution_count": 41,
   "id": "b0063265",
   "metadata": {},
   "outputs": [
    {
     "name": "stdout",
     "output_type": "stream",
     "text": [
      "-1.3102903376707866\n"
     ]
    }
   ],
   "source": [
    "pickle.dump(huber, open('Output/ransac.model', 'wb'))\n",
    "\n",
    "# load the model from disk\n",
    "ransac = pickle.load(open('Output/ransac.model', 'rb'))\n",
    "result = ransac.score(X_red_test, y_red_test)\n",
    "print(result)"
   ]
  },
  {
   "cell_type": "markdown",
   "id": "5bf46c06",
   "metadata": {},
   "source": [
    "## Model 5: Ensemble Learning"
   ]
  },
  {
   "cell_type": "code",
   "execution_count": 43,
   "id": "297b4597",
   "metadata": {},
   "outputs": [
    {
     "data": {
      "text/plain": [
       "0.7937623127635465"
      ]
     },
     "execution_count": 43,
     "metadata": {},
     "output_type": "execute_result"
    }
   ],
   "source": [
    "from sklearn.ensemble import VotingRegressor\n",
    "\n",
    "model_1 = LinearRegression()\n",
    "model_2 = HuberRegressor()\n",
    "model_3 = TheilSenRegressor(random_state=42)\n",
    "model_4 = RANSACRegressor(random_state=42)\n",
    "\n",
    "\n",
    "vote_reg = VotingRegressor([('linear', model_1),\n",
    "                            ('huber', model_2),\n",
    "                            ('theilsen', model_3),\n",
    "                            ('ransac', model_4)])\n",
    "vote_reg.fit(X_red_train, y_red_train)\n",
    "vote_reg.score(X_red_test, y_red_test)"
   ]
  },
  {
   "cell_type": "code",
   "execution_count": 44,
   "id": "dd62c0ff",
   "metadata": {},
   "outputs": [
    {
     "name": "stdout",
     "output_type": "stream",
     "text": [
      "0.7937623127635465\n"
     ]
    }
   ],
   "source": [
    "pickle.dump(vote_reg, open('Output/vote_reg.model', 'wb'))\n",
    "\n",
    "# load the model from disk\n",
    "vote_reg = pickle.load(open('Output/vote_reg.model', 'rb'))\n",
    "result = vote_reg.score(X_red_test, y_red_test)\n",
    "print(result)"
   ]
  },
  {
   "cell_type": "code",
   "execution_count": null,
   "id": "451b152b",
   "metadata": {},
   "outputs": [],
   "source": []
  }
 ],
 "metadata": {
  "kernelspec": {
   "display_name": "Python 3 (ipykernel)",
   "language": "python",
   "name": "python3"
  },
  "language_info": {
   "codemirror_mode": {
    "name": "ipython",
    "version": 3
   },
   "file_extension": ".py",
   "mimetype": "text/x-python",
   "name": "python",
   "nbconvert_exporter": "python",
   "pygments_lexer": "ipython3",
   "version": "3.10.6"
  },
  "vscode": {
   "interpreter": {
    "hash": "31f2aee4e71d21fbe5cf8b01ff0e069b9275f58929596ceb00d14d90e3e16cd6"
   }
  }
 },
 "nbformat": 4,
 "nbformat_minor": 5
}
