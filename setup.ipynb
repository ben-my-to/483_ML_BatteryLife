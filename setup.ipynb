{
 "cells": [
  {
   "cell_type": "code",
   "execution_count": null,
   "id": "be8b29ca",
   "metadata": {},
   "outputs": [],
   "source": [
    "from IPython.core.interactiveshell import InteractiveShell\n",
    "InteractiveShell.ast_node_interactivity = \"all\""
   ]
  },
  {
   "cell_type": "code",
   "execution_count": 5,
   "id": "7cb3d43c",
   "metadata": {},
   "outputs": [],
   "source": [
    "tables = [\n",
    "r'SNL_18650_LFP_15C_0-100_0.5-1C_a',\n",
    "r'SNL_18650_LFP_15C_0-100_0.5-1C_b',\n",
    "r'SNL_18650_LFP_15C_0-100_0.5-2C_a',\n",
    "r'SNL_18650_LFP_15C_0-100_0.5-2C_b',\n",
    "r'SNL_18650_LFP_25C_0-100_0.5-0.5C_a',\n",
    "r'SNL_18650_LFP_25C_0-100_0.5-1C_a',\n",
    "r'SNL_18650_LFP_25C_0-100_0.5-1C_b',\n",
    "r'SNL_18650_LFP_25C_0-100_0.5-1C_c',\n",
    "r'SNL_18650_LFP_25C_0-100_0.5-1C_d',\n",
    "r'SNL_18650_LFP_25C_0-100_0.5-2C_a',\n",
    "r'SNL_18650_LFP_25C_0-100_0.5-2C_b',\n",
    "r'SNL_18650_LFP_25C_0-100_0.5-3C_a',\n",
    "r'SNL_18650_LFP_25C_0-100_0.5-3C_b',\n",
    "r'SNL_18650_LFP_25C_0-100_0.5-3C_c',\n",
    "r'SNL_18650_LFP_25C_0-100_0.5-3C_d',\n",
    "r'SNL_18650_LFP_25C_20-80_0.5-0.5C_a',\n",
    "r'SNL_18650_LFP_25C_20-80_0.5-0.5C_b',\n",
    "r'SNL_18650_LFP_25C_20-80_0.5-0.5C_c',\n",
    "r'SNL_18650_LFP_25C_20-80_0.5-0.5C_d',\n",
    "r'SNL_18650_LFP_25C_20-80_0.5-3C_a',\n",
    "r'SNL_18650_LFP_25C_40-60_0.5-0.5C_a',\n",
    "r'SNL_18650_LFP_25C_40-60_0.5-0.5C_b',\n",
    "r'SNL_18650_LFP_25C_40-60_0.5-3C_a',\n",
    "r'SNL_18650_LFP_25C_40-60_0.5-3C_b',\n",
    "r'SNL_18650_LFP_35C_0-100_0.5-1C_a',\n",
    "r'SNL_18650_LFP_35C_0-100_0.5-1C_b',\n",
    "r'SNL_18650_LFP_35C_0-100_0.5-1C_c',\n",
    "r'SNL_18650_LFP_35C_0-100_0.5-1C_d',\n",
    "r'SNL_18650_LFP_35C_0-100_0.5-2C_a',\n",
    "r'SNL_18650_LFP_35C_0-100_0.5-2C_b',\n",
    "r'SNL_18650_NCA_15C_0-100_0.5-1C_a',\n",
    "r'SNL_18650_NCA_15C_0-100_0.5-1C_b',\n",
    "r'SNL_18650_NCA_15C_0-100_0.5-2C_a',\n",
    "r'SNL_18650_NCA_15C_0-100_0.5-2C_b',\n",
    "r'SNL_18650_NCA_25C_0-100_0.5-0.5C_a',\n",
    "r'SNL_18650_NCA_25C_0-100_0.5-0.5C_b',\n",
    "r'SNL_18650_NCA_25C_0-100_0.5-1C_a',\n",
    "r'SNL_18650_NCA_25C_0-100_0.5-1C_b',\n",
    "r'SNL_18650_NCA_25C_0-100_0.5-1C_c',\n",
    "r'SNL_18650_NCA_25C_0-100_0.5-1C_d',\n",
    "r'SNL_18650_NCA_25C_0-100_0.5-2C_a',\n",
    "r'SNL_18650_NCA_25C_0-100_0.5-2C_b',\n",
    "r'SNL_18650_NCA_25C_20-80_0.5-0.5C_a',\n",
    "r'SNL_18650_NCA_25C_20-80_0.5-0.5C_b',\n",
    "r'SNL_18650_NCA_25C_20-80_0.5-0.5C_c',\n",
    "r'SNL_18650_NCA_25C_20-80_0.5-0.5C_d',\n",
    "r'SNL_18650_NCA_25C_40-60_0.5-0.5C_a',\n",
    "r'SNL_18650_NCA_25C_40-60_0.5-0.5C_b',\n",
    "r'SNL_18650_NCA_35C_0-100_0.5-1C_a',\n",
    "r'SNL_18650_NCA_35C_0-100_0.5-1C_b',\n",
    "r'SNL_18650_NCA_35C_0-100_0.5-1C_c',\n",
    "r'SNL_18650_NCA_35C_0-100_0.5-1C_d',\n",
    "r'SNL_18650_NCA_35C_0-100_0.5-2C_a',\n",
    "r'SNL_18650_NCA_35C_0-100_0.5-2C_b',\n",
    "r'SNL_18650_NMC_15C_0-100_0.5-1C_a',\n",
    "r'SNL_18650_NMC_15C_0-100_0.5-1C_b',\n",
    "r'SNL_18650_NMC_15C_0-100_0.5-2C_a',\n",
    "r'SNL_18650_NMC_15C_0-100_0.5-2C_b',\n",
    "r'SNL_18650_NMC_25C_0-100_0.5-0.5C_a',\n",
    "r'SNL_18650_NMC_25C_0-100_0.5-0.5C_b',\n",
    "r'SNL_18650_NMC_25C_0-100_0.5-1C_a',\n",
    "r'SNL_18650_NMC_25C_0-100_0.5-1C_b',\n",
    "r'SNL_18650_NMC_25C_0-100_0.5-1C_c',\n",
    "r'SNL_18650_NMC_25C_0-100_0.5-1C_d',\n",
    "r'SNL_18650_NMC_25C_0-100_0.5-2C_a',\n",
    "r'SNL_18650_NMC_25C_0-100_0.5-2C_b',\n",
    "r'SNL_18650_NMC_25C_0-100_0.5-3C_a',\n",
    "r'SNL_18650_NMC_25C_0-100_0.5-3C_b',\n",
    "r'SNL_18650_NMC_25C_0-100_0.5-3C_c',\n",
    "r'SNL_18650_NMC_25C_0-100_0.5-3C_d',\n",
    "r'SNL_18650_NMC_25C_20-80_0.5-0.5C_a',\n",
    "r'SNL_18650_NMC_25C_20-80_0.5-0.5C_b',\n",
    "r'SNL_18650_NMC_25C_20-80_0.5-0.5C_c',\n",
    "r'SNL_18650_NMC_25C_20-80_0.5-0.5C_d',\n",
    "r'SNL_18650_NMC_25C_20-80_0.5-3C_a',\n",
    "r'SNL_18650_NMC_25C_20-80_0.5-3C_b',\n",
    "r'SNL_18650_NMC_25C_40-60_0.5-0.5C_a',\n",
    "r'SNL_18650_NMC_25C_40-60_0.5-0.5C_b',\n",
    "r'SNL_18650_NMC_25C_40-60_0.5-3C_a',\n",
    "r'SNL_18650_NMC_25C_40-60_0.5-3C_b',\n",
    "r'SNL_18650_NMC_35C_0-100_0.5-1C_a',\n",
    "r'SNL_18650_NMC_35C_0-100_0.5-1C_b',\n",
    "r'SNL_18650_NMC_35C_0-100_0.5-1C_c',\n",
    "r'SNL_18650_NMC_35C_0-100_0.5-1C_d',\n",
    "r'SNL_18650_NMC_35C_0-100_0.5-2C_a',\n",
    "r'SNL_18650_NMC_35C_0-100_0.5-2C_b',\n",
    "]"
   ]
  },
  {
   "cell_type": "code",
   "execution_count": null,
   "id": "295be678",
   "metadata": {},
   "outputs": [
    {
     "name": "stdout",
     "output_type": "stream",
     "text": [
      "DONE: https://www.batteryarchive.org/data/SNL_18650_LFP_15C_0-100_0.5-1C_a_timeseries.csv\n",
      "DONE: https://www.batteryarchive.org/data/SNL_18650_LFP_15C_0-100_0.5-1C_b_timeseries.csv\n",
      "DONE: https://www.batteryarchive.org/data/SNL_18650_LFP_15C_0-100_0.5-2C_a_timeseries.csv\n"
     ]
    }
   ],
   "source": [
    "import pandas as pd\n",
    "\n",
    "def fetch_data():\n",
    "    for name in tables:\n",
    "        link = r'https://www.batteryarchive.org/data/' + name + r'_timeseries.csv'\n",
    "        print(f\"DONE: {link}\")\n",
    "        df = pd.read_csv(link)\n",
    "        df.to_pickle(name + '.pkl')\n",
    "\n",
    "fetch_data()"
   ]
  },
  {
   "cell_type": "code",
   "execution_count": null,
   "id": "3e082171",
   "metadata": {},
   "outputs": [],
   "source": []
  }
 ],
 "metadata": {
  "kernelspec": {
   "display_name": "Python 3 (ipykernel)",
   "language": "python",
   "name": "python3"
  },
  "language_info": {
   "codemirror_mode": {
    "name": "ipython",
    "version": 3
   },
   "file_extension": ".py",
   "mimetype": "text/x-python",
   "name": "python",
   "nbconvert_exporter": "python",
   "pygments_lexer": "ipython3",
   "version": "3.10.4"
  },
  "vscode": {
   "interpreter": {
    "hash": "916dbcbb3f70747c44a77c7bcd40155683ae19c65e1c03b4aa3499c5328201f1"
   }
  }
 },
 "nbformat": 4,
 "nbformat_minor": 5
}
