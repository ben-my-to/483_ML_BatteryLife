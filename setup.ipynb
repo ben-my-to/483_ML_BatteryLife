{
 "cells": [
  {
   "cell_type": "code",
   "execution_count": 1,
   "id": "be8b29ca",
   "metadata": {},
   "outputs": [],
   "source": [
    "# from IPython.core.interactiveshell import InteractiveShell\n",
    "# InteractiveShell.ast_node_interactivity = \"all\""
   ]
  },
  {
   "cell_type": "code",
   "execution_count": 2,
   "id": "4ae51118",
   "metadata": {},
   "outputs": [],
   "source": [
    "import os\n",
    "import pandas as pd\n",
    "from pathlib import Path\n",
    "from urllib.error import HTTPError"
   ]
  },
  {
   "cell_type": "markdown",
   "id": "57049fe3",
   "metadata": {},
   "source": [
    "# Parse the Data"
   ]
  },
  {
   "cell_type": "code",
   "execution_count": 3,
   "id": "452dcf5b",
   "metadata": {},
   "outputs": [],
   "source": [
    "def extract_column(dataset, attr, *, regex=''):\n",
    "    \"\"\"\n",
    "    Returns a list samples of an attribute and\n",
    "    constrained by some regular expression.\n",
    "    \n",
    "    Positional Arguments:\n",
    "    dataset -- a csv file\n",
    "    attr -- an attribute of the dataset \n",
    "    \n",
    "    Keyword (Required) Arguments:\n",
    "    regex: the key used to filter specific datapoints (defaults to all)\n",
    "    \"\"\"\n",
    "    df = pd.read_csv(dataset)[attr].squeeze()\n",
    "    df.replace('/', '-', regex=True, inplace=True)\n",
    "    return [dp[0] for dp in df.str.findall(fr'^{regex}.*') if len(dp)]"
   ]
  },
  {
   "cell_type": "markdown",
   "id": "9755f679",
   "metadata": {},
   "source": [
    "# Save and Load the Data"
   ]
  },
  {
   "cell_type": "code",
   "execution_count": 4,
   "id": "295be678",
   "metadata": {},
   "outputs": [],
   "source": [
    "repos = (r'https://www.batteryarchive.org/data/' + url + r'_timeseries.csv'\n",
    "         for url in extract_column('metadata.csv', 'cell_id', regex='SNL'))\n",
    "\n",
    "def load_battery_data(path):\n",
    "    \"\"\"\n",
    "    Downloads the battery data, encoded as a pickle object (*.pkl)\n",
    "    into the datasets directory.\n",
    "    \n",
    "    Data source -- @www.batteryarchive.org\n",
    "    \"\"\"\n",
    "    \n",
    "    try:\n",
    "        os.chdir(path / r'483_ML_BatteryLife/')\n",
    "        data_path = r'datasets/battery.pkl'\n",
    "        if not Path('datasets/').is_dir():\n",
    "            Path(\"datasets\").mkdir(parents=True, exist_ok=True)\n",
    "        if not Path(data_path).is_file():\n",
    "            df = pd.concat([pd.read_csv(url) for url in repos])\n",
    "            df.to_pickle(data_path)\n",
    "            print(\"Download Complete!\")\n",
    "        return pd.read_pickle(data_path)\n",
    "    except HTTPError:\n",
    "        print(\"Download Failed!\")"
   ]
  },
  {
   "cell_type": "code",
   "execution_count": 5,
   "id": "4deee225",
   "metadata": {},
   "outputs": [],
   "source": [
    "battery = load_battery_data(Path(r'/home/jason/'))  # change path to Github repository"
   ]
  },
  {
   "cell_type": "markdown",
   "id": "6ae051a9",
   "metadata": {},
   "source": [
    "# Look at the Data"
   ]
  },
  {
   "cell_type": "code",
   "execution_count": 6,
   "id": "63e865b9",
   "metadata": {},
   "outputs": [
    {
     "name": "stdout",
     "output_type": "stream",
     "text": [
      "<class 'pandas.core.frame.DataFrame'>\n",
      "Int64Index: 23888882 entries, 0 to 80104\n",
      "Data columns (total 11 columns):\n",
      " #   Column                       Dtype  \n",
      "---  ------                       -----  \n",
      " 0   Date_Time                    object \n",
      " 1   Test_Time (s)                float64\n",
      " 2   Cycle_Index                  float64\n",
      " 3   Current (A)                  float64\n",
      " 4   Voltage (V)                  float64\n",
      " 5   Charge_Capacity (Ah)         float64\n",
      " 6   Discharge_Capacity (Ah)      float64\n",
      " 7   Charge_Energy (Wh)           float64\n",
      " 8   Discharge_Energy (Wh)        float64\n",
      " 9   Environment_Temperature (C)  float64\n",
      " 10  Cell_Temperature (C)         float64\n",
      "dtypes: float64(10), object(1)\n",
      "memory usage: 2.1+ GB\n"
     ]
    }
   ],
   "source": [
    "battery.info()"
   ]
  },
  {
   "cell_type": "code",
   "execution_count": 7,
   "id": "5d7af751",
   "metadata": {},
   "outputs": [
    {
     "data": {
      "text/html": [
       "<div>\n",
       "<style scoped>\n",
       "    .dataframe tbody tr th:only-of-type {\n",
       "        vertical-align: middle;\n",
       "    }\n",
       "\n",
       "    .dataframe tbody tr th {\n",
       "        vertical-align: top;\n",
       "    }\n",
       "\n",
       "    .dataframe thead th {\n",
       "        text-align: right;\n",
       "    }\n",
       "</style>\n",
       "<table border=\"1\" class=\"dataframe\">\n",
       "  <thead>\n",
       "    <tr style=\"text-align: right;\">\n",
       "      <th></th>\n",
       "      <th>Date_Time</th>\n",
       "      <th>Test_Time (s)</th>\n",
       "      <th>Cycle_Index</th>\n",
       "      <th>Current (A)</th>\n",
       "      <th>Voltage (V)</th>\n",
       "      <th>Charge_Capacity (Ah)</th>\n",
       "      <th>Discharge_Capacity (Ah)</th>\n",
       "      <th>Charge_Energy (Wh)</th>\n",
       "      <th>Discharge_Energy (Wh)</th>\n",
       "      <th>Environment_Temperature (C)</th>\n",
       "      <th>Cell_Temperature (C)</th>\n",
       "    </tr>\n",
       "  </thead>\n",
       "  <tbody>\n",
       "    <tr>\n",
       "      <th>0</th>\n",
       "      <td>2018-02-01 10:02:10.002962</td>\n",
       "      <td>10.002</td>\n",
       "      <td>1.0</td>\n",
       "      <td>0.0</td>\n",
       "      <td>2.940</td>\n",
       "      <td>0.0</td>\n",
       "      <td>0.0</td>\n",
       "      <td>0.0</td>\n",
       "      <td>0.0</td>\n",
       "      <td>15.163</td>\n",
       "      <td>15.375</td>\n",
       "    </tr>\n",
       "    <tr>\n",
       "      <th>1</th>\n",
       "      <td>2018-02-01 10:02:20.016433</td>\n",
       "      <td>20.016</td>\n",
       "      <td>1.0</td>\n",
       "      <td>0.0</td>\n",
       "      <td>2.941</td>\n",
       "      <td>0.0</td>\n",
       "      <td>0.0</td>\n",
       "      <td>0.0</td>\n",
       "      <td>0.0</td>\n",
       "      <td>15.148</td>\n",
       "      <td>15.437</td>\n",
       "    </tr>\n",
       "    <tr>\n",
       "      <th>2</th>\n",
       "      <td>2018-02-01 10:02:30.031429</td>\n",
       "      <td>30.031</td>\n",
       "      <td>1.0</td>\n",
       "      <td>0.0</td>\n",
       "      <td>2.941</td>\n",
       "      <td>0.0</td>\n",
       "      <td>0.0</td>\n",
       "      <td>0.0</td>\n",
       "      <td>0.0</td>\n",
       "      <td>15.087</td>\n",
       "      <td>15.375</td>\n",
       "    </tr>\n",
       "    <tr>\n",
       "      <th>3</th>\n",
       "      <td>2018-02-01 10:02:40.046426</td>\n",
       "      <td>40.046</td>\n",
       "      <td>1.0</td>\n",
       "      <td>0.0</td>\n",
       "      <td>2.941</td>\n",
       "      <td>0.0</td>\n",
       "      <td>0.0</td>\n",
       "      <td>0.0</td>\n",
       "      <td>0.0</td>\n",
       "      <td>15.240</td>\n",
       "      <td>15.375</td>\n",
       "    </tr>\n",
       "    <tr>\n",
       "      <th>4</th>\n",
       "      <td>2018-02-01 10:02:50.061462</td>\n",
       "      <td>50.061</td>\n",
       "      <td>1.0</td>\n",
       "      <td>0.0</td>\n",
       "      <td>2.941</td>\n",
       "      <td>0.0</td>\n",
       "      <td>0.0</td>\n",
       "      <td>0.0</td>\n",
       "      <td>0.0</td>\n",
       "      <td>15.087</td>\n",
       "      <td>15.375</td>\n",
       "    </tr>\n",
       "  </tbody>\n",
       "</table>\n",
       "</div>"
      ],
      "text/plain": [
       "                    Date_Time  Test_Time (s)  Cycle_Index  Current (A)  \\\n",
       "0  2018-02-01 10:02:10.002962         10.002          1.0          0.0   \n",
       "1  2018-02-01 10:02:20.016433         20.016          1.0          0.0   \n",
       "2  2018-02-01 10:02:30.031429         30.031          1.0          0.0   \n",
       "3  2018-02-01 10:02:40.046426         40.046          1.0          0.0   \n",
       "4  2018-02-01 10:02:50.061462         50.061          1.0          0.0   \n",
       "\n",
       "   Voltage (V)  Charge_Capacity (Ah)  Discharge_Capacity (Ah)  \\\n",
       "0        2.940                   0.0                      0.0   \n",
       "1        2.941                   0.0                      0.0   \n",
       "2        2.941                   0.0                      0.0   \n",
       "3        2.941                   0.0                      0.0   \n",
       "4        2.941                   0.0                      0.0   \n",
       "\n",
       "   Charge_Energy (Wh)  Discharge_Energy (Wh)  Environment_Temperature (C)  \\\n",
       "0                 0.0                    0.0                       15.163   \n",
       "1                 0.0                    0.0                       15.148   \n",
       "2                 0.0                    0.0                       15.087   \n",
       "3                 0.0                    0.0                       15.240   \n",
       "4                 0.0                    0.0                       15.087   \n",
       "\n",
       "   Cell_Temperature (C)  \n",
       "0                15.375  \n",
       "1                15.437  \n",
       "2                15.375  \n",
       "3                15.375  \n",
       "4                15.375  "
      ]
     },
     "execution_count": 7,
     "metadata": {},
     "output_type": "execute_result"
    }
   ],
   "source": [
    "battery.head()"
   ]
  },
  {
   "cell_type": "code",
   "execution_count": null,
   "id": "3e082171",
   "metadata": {},
   "outputs": [],
   "source": [
    "battery.describe()"
   ]
  },
  {
   "cell_type": "code",
   "execution_count": null,
   "id": "54c62150",
   "metadata": {},
   "outputs": [],
   "source": [
    "%matplotlib inline\n",
    "import matplotlib.pyplot as plt\n",
    "\n",
    "plt.rc('font', size=14)\n",
    "plt.rc('axes', labelsize=14, titlesize=10)\n",
    "plt.rc('legend', fontsize=14)\n",
    "plt.rc('xtick', labelsize=8)\n",
    "plt.rc('ytick', labelsize=8)\n",
    "\n",
    "battery.hist(bins=50, figsize=(10, 10))\n",
    "plt.show()"
   ]
  },
  {
   "cell_type": "code",
   "execution_count": null,
   "id": "352bc85d",
   "metadata": {},
   "outputs": [],
   "source": []
  }
 ],
 "metadata": {
  "kernelspec": {
   "display_name": "Python 3 (ipykernel)",
   "language": "python",
   "name": "python3"
  },
  "language_info": {
   "codemirror_mode": {
    "name": "ipython",
    "version": 3
   },
   "file_extension": ".py",
   "mimetype": "text/x-python",
   "name": "python",
   "nbconvert_exporter": "python",
   "pygments_lexer": "ipython3",
   "version": "3.10.4"
  },
  "vscode": {
   "interpreter": {
    "hash": "916dbcbb3f70747c44a77c7bcd40155683ae19c65e1c03b4aa3499c5328201f1"
   }
  }
 },
 "nbformat": 4,
 "nbformat_minor": 5
}
