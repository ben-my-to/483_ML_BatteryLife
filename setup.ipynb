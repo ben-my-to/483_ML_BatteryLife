{
 "cells": [
  {
   "cell_type": "code",
   "execution_count": null,
   "id": "be8b29ca",
   "metadata": {},
   "outputs": [],
   "source": [
    "# from IPython.core.interactiveshell import InteractiveShell\n",
    "# InteractiveShell.ast_node_interactivity = \"all\""
   ]
  },
  {
   "cell_type": "code",
   "execution_count": 2,
   "id": "4ae51118",
   "metadata": {},
   "outputs": [
    {
     "ename": "ModuleNotFoundError",
     "evalue": "No module named 'seaborn'",
     "output_type": "error",
     "traceback": [
      "\u001b[0;31m---------------------------------------------------------------------------\u001b[0m",
      "\u001b[0;31mModuleNotFoundError\u001b[0m                       Traceback (most recent call last)",
      "Input \u001b[0;32mIn [2]\u001b[0m, in \u001b[0;36m<cell line: 4>\u001b[0;34m()\u001b[0m\n\u001b[1;32m      2\u001b[0m \u001b[38;5;28;01mimport\u001b[39;00m \u001b[38;5;21;01mnumpy\u001b[39;00m \u001b[38;5;28;01mas\u001b[39;00m \u001b[38;5;21;01mnp\u001b[39;00m\n\u001b[1;32m      3\u001b[0m \u001b[38;5;28;01mimport\u001b[39;00m \u001b[38;5;21;01mpandas\u001b[39;00m \u001b[38;5;28;01mas\u001b[39;00m \u001b[38;5;21;01mpd\u001b[39;00m\n\u001b[0;32m----> 4\u001b[0m \u001b[38;5;28;01mimport\u001b[39;00m \u001b[38;5;21;01mseaborn\u001b[39;00m \u001b[38;5;28;01mas\u001b[39;00m \u001b[38;5;21;01msns\u001b[39;00m\n\u001b[1;32m      5\u001b[0m \u001b[38;5;28;01mfrom\u001b[39;00m \u001b[38;5;21;01mpathlib\u001b[39;00m \u001b[38;5;28;01mimport\u001b[39;00m Path\n\u001b[1;32m      6\u001b[0m \u001b[38;5;28;01mfrom\u001b[39;00m \u001b[38;5;21;01murllib\u001b[39;00m\u001b[38;5;21;01m.\u001b[39;00m\u001b[38;5;21;01merror\u001b[39;00m \u001b[38;5;28;01mimport\u001b[39;00m HTTPError\n",
      "\u001b[0;31mModuleNotFoundError\u001b[0m: No module named 'seaborn'"
     ]
    }
   ],
   "source": [
    "import os\n",
    "import numpy as np\n",
    "import pandas as pd\n",
    "import seaborn as sns\n",
    "from pathlib import Path\n",
    "from urllib.error import HTTPError"
   ]
  },
  {
   "cell_type": "raw",
   "id": "d273bf30",
   "metadata": {},
   "source": [
    "# Data Consolidation"
   ]
  },
  {
   "cell_type": "markdown",
   "id": "7c7ee78f",
   "metadata": {},
   "source": [
    "## Filter/Parse the Data "
   ]
  },
  {
   "cell_type": "code",
   "execution_count": null,
   "id": "452dcf5b",
   "metadata": {},
   "outputs": [],
   "source": [
    "def extract_column(dataset, attr, *, pattern=''):\n",
    "    \"\"\"\n",
    "    Returns a list samples of an attribute and\n",
    "    constrained by some regular expression.\n",
    "    \n",
    "    Positional Arguments:\n",
    "    dataset -- a csv file\n",
    "    attr -- an attribute of the dataset \n",
    "    \n",
    "    Keyword Arguments (Required):\n",
    "    regex: the key used to filter specific datapoints (defaults to all)\n",
    "    \"\"\"\n",
    "    df = pd.read_csv(dataset)[attr].squeeze()\n",
    "    df.replace('/', '-', regex=True, inplace=True)\n",
    "    return [dp[0] for dp in df.str.findall(fr'^{pattern}.*') if len(dp)]"
   ]
  },
  {
   "cell_type": "markdown",
   "id": "9755f679",
   "metadata": {},
   "source": [
    "## Download (Collect/Join), Save, and Load the Data"
   ]
  },
  {
   "cell_type": "code",
   "execution_count": null,
   "id": "295be678",
   "metadata": {},
   "outputs": [],
   "source": [
    "repos = (r'https://www.batteryarchive.org/data/' + _ + r'_timeseries.csv'\n",
    "         for _ in extract_column('metadata.csv', 'cell_id', pattern='SNL'))\n",
    "\n",
    "def load_battery_data(path):\n",
    "    \"\"\"\n",
    "    Downloads the battery data, encoded as a pickle object (*.pkl)\n",
    "    into the datasets directory.\n",
    "    \n",
    "    Data source -- @www.batteryarchive.org\n",
    "    \"\"\"\n",
    "    \n",
    "    try:\n",
    "        os.chdir(path / r'483_ML_BatteryLife/')\n",
    "        data_path = r'datasets/battery.pkl'\n",
    "        if not Path('datasets/').is_dir():\n",
    "            Path(\"datasets\").mkdir(parents=True, exist_ok=True)\n",
    "        if not Path(data_path).is_file():\n",
    "            df = pd.concat([pd.read_csv(url) for url in repos])\n",
    "            df.to_pickle(data_path)\n",
    "            print(\"Download Complete!\")\n",
    "        return pd.read_pickle(data_path)\n",
    "    except HTTPError:\n",
    "        print(\"Download Failed!\")"
   ]
  },
  {
   "cell_type": "code",
   "execution_count": null,
   "id": "4deee225",
   "metadata": {},
   "outputs": [],
   "source": [
    "battery = load_battery_data(Path(r'/home/jason/'))  # change path to Github repository"
   ]
  },
  {
   "cell_type": "markdown",
   "id": "6ae051a9",
   "metadata": {},
   "source": [
    "# Look at the Data"
   ]
  },
  {
   "cell_type": "code",
   "execution_count": null,
   "id": "63e865b9",
   "metadata": {},
   "outputs": [],
   "source": [
    "battery.info(show_counts=True)"
   ]
  },
  {
   "cell_type": "code",
   "execution_count": null,
   "id": "5d7af751",
   "metadata": {},
   "outputs": [],
   "source": [
    "battery.head()"
   ]
  },
  {
   "cell_type": "code",
   "execution_count": null,
   "id": "3e082171",
   "metadata": {},
   "outputs": [],
   "source": [
    "battery.describe()"
   ]
  },
  {
   "cell_type": "code",
   "execution_count": null,
   "id": "54c62150",
   "metadata": {},
   "outputs": [],
   "source": [
    "%matplotlib inline\n",
    "import matplotlib.pyplot as plt\n",
    "\n",
    "plt.rc('font', size=14)\n",
    "plt.rc('axes', labelsize=14, titlesize=10)\n",
    "plt.rc('legend', fontsize=14)\n",
    "plt.rc('xtick', labelsize=8)\n",
    "plt.rc('ytick', labelsize=8)\n",
    "\n",
    "battery.hist(bins=50, figsize=(10, 10))\n",
    "plt.show()"
   ]
  },
  {
   "cell_type": "code",
   "execution_count": null,
   "id": "352bc85d",
   "metadata": {},
   "outputs": [],
   "source": [
    "from data_visualization import insights_of_df\n",
    "\n",
    "insights_of_df(battery)"
   ]
  },
  {
   "cell_type": "code",
   "execution_count": null,
   "id": "da9110f6",
   "metadata": {},
   "outputs": [],
   "source": [
    "battery['Date_Time']"
   ]
  },
  {
   "cell_type": "code",
   "execution_count": null,
   "id": "3e31f698",
   "metadata": {},
   "outputs": [],
   "source": [
    "#plt.figure(figsize=(10, 7))\n",
    "#plt.boxplot(battery['Date_Time'])\n",
    "#plt.show()"
   ]
  },
  {
   "cell_type": "code",
   "execution_count": null,
   "id": "d8df2462",
   "metadata": {},
   "outputs": [],
   "source": [
    "plt.figure(figsize=(15.8))\n"
   ]
  }
 ],
 "metadata": {
  "kernelspec": {
   "display_name": "Python 3 (ipykernel)",
   "language": "python",
   "name": "python3"
  },
  "language_info": {
   "codemirror_mode": {
    "name": "ipython",
    "version": 3
   },
   "file_extension": ".py",
   "mimetype": "text/x-python",
   "name": "python",
   "nbconvert_exporter": "python",
   "pygments_lexer": "ipython3",
   "version": "3.10.4"
  },
  "vscode": {
   "interpreter": {
    "hash": "916dbcbb3f70747c44a77c7bcd40155683ae19c65e1c03b4aa3499c5328201f1"
   }
  }
 },
 "nbformat": 4,
 "nbformat_minor": 5
}
